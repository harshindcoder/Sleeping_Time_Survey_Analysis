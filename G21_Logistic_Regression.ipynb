{
 "cells": [
  {
   "cell_type": "markdown",
   "metadata": {
    "id": "HL1LU-9PG1_u"
   },
   "source": [
    "#Project By:\n",
    "#Anurag Porwal - 19312004\n",
    "#Avi Gupta - 19312006\n",
    "#Harsh Indoria - 19121012\n",
    "#Rakshit Joshi - 19312025"
   ]
  },
  {
   "cell_type": "markdown",
   "metadata": {
    "id": "Syra5gowHRPH"
   },
   "source": [
    "#Data Preprocessing"
   ]
  },
  {
   "cell_type": "code",
   "execution_count": 1,
   "metadata": {
    "id": "fIlAqHOTvLqS"
   },
   "outputs": [],
   "source": [
    "import numpy as np\n",
    "import pandas as pd\n",
    "import matplotlib.pyplot as plt\n",
    "%matplotlib inline\n",
    "import seaborn as sns"
   ]
  },
  {
   "cell_type": "code",
   "execution_count": 2,
   "metadata": {
    "id": "7HjeRtJWv7CV"
   },
   "outputs": [],
   "source": [
    "sleep_data=pd.read_excel('G21_Raw_Data_Combined.xlsx')"
   ]
  },
  {
   "cell_type": "code",
   "execution_count": 3,
   "metadata": {
    "colab": {
     "base_uri": "https://localhost:8080/",
     "height": 423
    },
    "id": "7Iea79nxzMoj",
    "outputId": "b0b8629f-8fee-4675-b559-44eab2a9895a"
   },
   "outputs": [
    {
     "data": {
      "text/html": [
       "<div>\n",
       "<style scoped>\n",
       "    .dataframe tbody tr th:only-of-type {\n",
       "        vertical-align: middle;\n",
       "    }\n",
       "\n",
       "    .dataframe tbody tr th {\n",
       "        vertical-align: top;\n",
       "    }\n",
       "\n",
       "    .dataframe thead th {\n",
       "        text-align: right;\n",
       "    }\n",
       "</style>\n",
       "<table border=\"1\" class=\"dataframe\">\n",
       "  <thead>\n",
       "    <tr style=\"text-align: right;\">\n",
       "      <th></th>\n",
       "      <th>Age</th>\n",
       "      <th>Gender</th>\n",
       "      <th>meals/day</th>\n",
       "      <th>physical illness</th>\n",
       "      <th>screen time</th>\n",
       "      <th>bluelight filter</th>\n",
       "      <th>sleep direction</th>\n",
       "      <th>exercise</th>\n",
       "      <th>smoke/drink</th>\n",
       "      <th>beverage</th>\n",
       "      <th>sleep time</th>\n",
       "    </tr>\n",
       "  </thead>\n",
       "  <tbody>\n",
       "    <tr>\n",
       "      <th>0</th>\n",
       "      <td>20</td>\n",
       "      <td>Male</td>\n",
       "      <td>4</td>\n",
       "      <td>No</td>\n",
       "      <td>more than 5</td>\n",
       "      <td>No</td>\n",
       "      <td>West</td>\n",
       "      <td>Sometimes</td>\n",
       "      <td>No</td>\n",
       "      <td>Tea</td>\n",
       "      <td>8.0</td>\n",
       "    </tr>\n",
       "    <tr>\n",
       "      <th>1</th>\n",
       "      <td>21</td>\n",
       "      <td>Male</td>\n",
       "      <td>3</td>\n",
       "      <td>No</td>\n",
       "      <td>more than 5</td>\n",
       "      <td>No</td>\n",
       "      <td>North</td>\n",
       "      <td>Sometimes</td>\n",
       "      <td>No</td>\n",
       "      <td>Tea and coffee both</td>\n",
       "      <td>8.0</td>\n",
       "    </tr>\n",
       "    <tr>\n",
       "      <th>2</th>\n",
       "      <td>20</td>\n",
       "      <td>Male</td>\n",
       "      <td>3</td>\n",
       "      <td>No</td>\n",
       "      <td>more than 5 hrs</td>\n",
       "      <td>No</td>\n",
       "      <td>North</td>\n",
       "      <td>Yes</td>\n",
       "      <td>No</td>\n",
       "      <td>None</td>\n",
       "      <td>7.0</td>\n",
       "    </tr>\n",
       "    <tr>\n",
       "      <th>3</th>\n",
       "      <td>19</td>\n",
       "      <td>Male</td>\n",
       "      <td>4</td>\n",
       "      <td>No</td>\n",
       "      <td>4-5 hrs</td>\n",
       "      <td>No</td>\n",
       "      <td>East</td>\n",
       "      <td>Yes</td>\n",
       "      <td>No</td>\n",
       "      <td>None</td>\n",
       "      <td>8.0</td>\n",
       "    </tr>\n",
       "    <tr>\n",
       "      <th>4</th>\n",
       "      <td>45</td>\n",
       "      <td>Female</td>\n",
       "      <td>3</td>\n",
       "      <td>No</td>\n",
       "      <td>3-4 hrs</td>\n",
       "      <td>No</td>\n",
       "      <td>North</td>\n",
       "      <td>Sometimes</td>\n",
       "      <td>No</td>\n",
       "      <td>None</td>\n",
       "      <td>6.0</td>\n",
       "    </tr>\n",
       "    <tr>\n",
       "      <th>...</th>\n",
       "      <td>...</td>\n",
       "      <td>...</td>\n",
       "      <td>...</td>\n",
       "      <td>...</td>\n",
       "      <td>...</td>\n",
       "      <td>...</td>\n",
       "      <td>...</td>\n",
       "      <td>...</td>\n",
       "      <td>...</td>\n",
       "      <td>...</td>\n",
       "      <td>...</td>\n",
       "    </tr>\n",
       "    <tr>\n",
       "      <th>75</th>\n",
       "      <td>22</td>\n",
       "      <td>Male</td>\n",
       "      <td>three</td>\n",
       "      <td>no</td>\n",
       "      <td>3-4 hrs</td>\n",
       "      <td>no</td>\n",
       "      <td>east</td>\n",
       "      <td>sometimes</td>\n",
       "      <td>no</td>\n",
       "      <td>Tea</td>\n",
       "      <td>6.0</td>\n",
       "    </tr>\n",
       "    <tr>\n",
       "      <th>76</th>\n",
       "      <td>21</td>\n",
       "      <td>Male</td>\n",
       "      <td>two</td>\n",
       "      <td>no</td>\n",
       "      <td>more than 5</td>\n",
       "      <td>no</td>\n",
       "      <td>east</td>\n",
       "      <td>sometimes</td>\n",
       "      <td>no</td>\n",
       "      <td>Tea</td>\n",
       "      <td>7.0</td>\n",
       "    </tr>\n",
       "    <tr>\n",
       "      <th>77</th>\n",
       "      <td>24</td>\n",
       "      <td>Male</td>\n",
       "      <td>three</td>\n",
       "      <td>no</td>\n",
       "      <td>more than 5</td>\n",
       "      <td>yes</td>\n",
       "      <td>east</td>\n",
       "      <td>sometimes</td>\n",
       "      <td>no</td>\n",
       "      <td>none of the above</td>\n",
       "      <td>4.0</td>\n",
       "    </tr>\n",
       "    <tr>\n",
       "      <th>78</th>\n",
       "      <td>25</td>\n",
       "      <td>Prefer not to say</td>\n",
       "      <td>three</td>\n",
       "      <td>yes</td>\n",
       "      <td>more than 5</td>\n",
       "      <td>yes</td>\n",
       "      <td>east</td>\n",
       "      <td>yes</td>\n",
       "      <td>yes</td>\n",
       "      <td>Tea and Coffee both</td>\n",
       "      <td>8.0</td>\n",
       "    </tr>\n",
       "    <tr>\n",
       "      <th>79</th>\n",
       "      <td>23</td>\n",
       "      <td>Female</td>\n",
       "      <td>three</td>\n",
       "      <td>no</td>\n",
       "      <td>more than 5</td>\n",
       "      <td>yes</td>\n",
       "      <td>east</td>\n",
       "      <td>sometimes</td>\n",
       "      <td>no</td>\n",
       "      <td>Tea</td>\n",
       "      <td>8.0</td>\n",
       "    </tr>\n",
       "  </tbody>\n",
       "</table>\n",
       "<p>80 rows × 11 columns</p>\n",
       "</div>"
      ],
      "text/plain": [
       "    Age             Gender  ...             beverage sleep time\n",
       "0    20               Male  ...                  Tea        8.0\n",
       "1    21               Male  ...  Tea and coffee both        8.0\n",
       "2    20               Male  ...                 None        7.0\n",
       "3    19               Male  ...                 None        8.0\n",
       "4    45             Female  ...                 None        6.0\n",
       "..  ...                ...  ...                  ...        ...\n",
       "75   22               Male  ...                  Tea        6.0\n",
       "76   21               Male  ...                  Tea        7.0\n",
       "77   24               Male  ...    none of the above        4.0\n",
       "78   25  Prefer not to say  ...  Tea and Coffee both        8.0\n",
       "79   23             Female  ...                  Tea        8.0\n",
       "\n",
       "[80 rows x 11 columns]"
      ]
     },
     "execution_count": 3,
     "metadata": {},
     "output_type": "execute_result"
    }
   ],
   "source": [
    "sleep_data"
   ]
  },
  {
   "cell_type": "code",
   "execution_count": 4,
   "metadata": {
    "colab": {
     "base_uri": "https://localhost:8080/"
    },
    "id": "Ptw92yEsgHqe",
    "outputId": "6b566f0d-cd9f-4705-e27a-033f17e52113"
   },
   "outputs": [
    {
     "name": "stdout",
     "output_type": "stream",
     "text": [
      "['Male' 'Female'] ['more than 5' 'more than 5 hrs' '4-5 hrs' '3-4 hrs' '2-3 hrs' '1-2 hrs'\n",
      " '0-1 hrs']\n"
     ]
    }
   ],
   "source": [
    "indx=[]\n",
    "for i in range(len(sleep_data.Age)):\n",
    "    if ('Prefer not to say'== sleep_data.Gender[i])|('2hrs'==sleep_data['screen time'][i]):\n",
    "        indx.append(i)\n",
    "sleep_data=sleep_data.drop(indx)\n",
    "print(sleep_data['Gender'].unique(),sleep_data['screen time'].unique())"
   ]
  },
  {
   "cell_type": "code",
   "execution_count": 5,
   "metadata": {
    "colab": {
     "base_uri": "https://localhost:8080/",
     "height": 423
    },
    "id": "zh36IjHRhDhp",
    "outputId": "b9bdd145-c60c-4274-9c44-0738940134e3"
   },
   "outputs": [
    {
     "data": {
      "text/html": [
       "<div>\n",
       "<style scoped>\n",
       "    .dataframe tbody tr th:only-of-type {\n",
       "        vertical-align: middle;\n",
       "    }\n",
       "\n",
       "    .dataframe tbody tr th {\n",
       "        vertical-align: top;\n",
       "    }\n",
       "\n",
       "    .dataframe thead th {\n",
       "        text-align: right;\n",
       "    }\n",
       "</style>\n",
       "<table border=\"1\" class=\"dataframe\">\n",
       "  <thead>\n",
       "    <tr style=\"text-align: right;\">\n",
       "      <th></th>\n",
       "      <th>Age</th>\n",
       "      <th>Gender</th>\n",
       "      <th>meals/day</th>\n",
       "      <th>physical illness</th>\n",
       "      <th>screen time</th>\n",
       "      <th>bluelight filter</th>\n",
       "      <th>sleep direction</th>\n",
       "      <th>exercise</th>\n",
       "      <th>smoke/drink</th>\n",
       "      <th>beverage</th>\n",
       "      <th>sleep time</th>\n",
       "    </tr>\n",
       "  </thead>\n",
       "  <tbody>\n",
       "    <tr>\n",
       "      <th>0</th>\n",
       "      <td>20</td>\n",
       "      <td>Male</td>\n",
       "      <td>4</td>\n",
       "      <td>No</td>\n",
       "      <td>more than 5</td>\n",
       "      <td>No</td>\n",
       "      <td>West</td>\n",
       "      <td>Sometimes</td>\n",
       "      <td>No</td>\n",
       "      <td>Tea</td>\n",
       "      <td>8.0</td>\n",
       "    </tr>\n",
       "    <tr>\n",
       "      <th>1</th>\n",
       "      <td>21</td>\n",
       "      <td>Male</td>\n",
       "      <td>3</td>\n",
       "      <td>No</td>\n",
       "      <td>more than 5</td>\n",
       "      <td>No</td>\n",
       "      <td>North</td>\n",
       "      <td>Sometimes</td>\n",
       "      <td>No</td>\n",
       "      <td>Tea and coffee both</td>\n",
       "      <td>8.0</td>\n",
       "    </tr>\n",
       "    <tr>\n",
       "      <th>2</th>\n",
       "      <td>20</td>\n",
       "      <td>Male</td>\n",
       "      <td>3</td>\n",
       "      <td>No</td>\n",
       "      <td>more than 5 hrs</td>\n",
       "      <td>No</td>\n",
       "      <td>North</td>\n",
       "      <td>Yes</td>\n",
       "      <td>No</td>\n",
       "      <td>None</td>\n",
       "      <td>7.0</td>\n",
       "    </tr>\n",
       "    <tr>\n",
       "      <th>3</th>\n",
       "      <td>19</td>\n",
       "      <td>Male</td>\n",
       "      <td>4</td>\n",
       "      <td>No</td>\n",
       "      <td>4-5 hrs</td>\n",
       "      <td>No</td>\n",
       "      <td>East</td>\n",
       "      <td>Yes</td>\n",
       "      <td>No</td>\n",
       "      <td>None</td>\n",
       "      <td>8.0</td>\n",
       "    </tr>\n",
       "    <tr>\n",
       "      <th>4</th>\n",
       "      <td>45</td>\n",
       "      <td>Female</td>\n",
       "      <td>3</td>\n",
       "      <td>No</td>\n",
       "      <td>3-4 hrs</td>\n",
       "      <td>No</td>\n",
       "      <td>North</td>\n",
       "      <td>Sometimes</td>\n",
       "      <td>No</td>\n",
       "      <td>None</td>\n",
       "      <td>6.0</td>\n",
       "    </tr>\n",
       "    <tr>\n",
       "      <th>...</th>\n",
       "      <td>...</td>\n",
       "      <td>...</td>\n",
       "      <td>...</td>\n",
       "      <td>...</td>\n",
       "      <td>...</td>\n",
       "      <td>...</td>\n",
       "      <td>...</td>\n",
       "      <td>...</td>\n",
       "      <td>...</td>\n",
       "      <td>...</td>\n",
       "      <td>...</td>\n",
       "    </tr>\n",
       "    <tr>\n",
       "      <th>74</th>\n",
       "      <td>22</td>\n",
       "      <td>Female</td>\n",
       "      <td>two</td>\n",
       "      <td>no</td>\n",
       "      <td>3-4 hrs</td>\n",
       "      <td>no</td>\n",
       "      <td>south</td>\n",
       "      <td>yes</td>\n",
       "      <td>no</td>\n",
       "      <td>Tea</td>\n",
       "      <td>6.0</td>\n",
       "    </tr>\n",
       "    <tr>\n",
       "      <th>75</th>\n",
       "      <td>22</td>\n",
       "      <td>Male</td>\n",
       "      <td>three</td>\n",
       "      <td>no</td>\n",
       "      <td>3-4 hrs</td>\n",
       "      <td>no</td>\n",
       "      <td>east</td>\n",
       "      <td>sometimes</td>\n",
       "      <td>no</td>\n",
       "      <td>Tea</td>\n",
       "      <td>6.0</td>\n",
       "    </tr>\n",
       "    <tr>\n",
       "      <th>76</th>\n",
       "      <td>21</td>\n",
       "      <td>Male</td>\n",
       "      <td>two</td>\n",
       "      <td>no</td>\n",
       "      <td>more than 5</td>\n",
       "      <td>no</td>\n",
       "      <td>east</td>\n",
       "      <td>sometimes</td>\n",
       "      <td>no</td>\n",
       "      <td>Tea</td>\n",
       "      <td>7.0</td>\n",
       "    </tr>\n",
       "    <tr>\n",
       "      <th>77</th>\n",
       "      <td>24</td>\n",
       "      <td>Male</td>\n",
       "      <td>three</td>\n",
       "      <td>no</td>\n",
       "      <td>more than 5</td>\n",
       "      <td>yes</td>\n",
       "      <td>east</td>\n",
       "      <td>sometimes</td>\n",
       "      <td>no</td>\n",
       "      <td>none of the above</td>\n",
       "      <td>4.0</td>\n",
       "    </tr>\n",
       "    <tr>\n",
       "      <th>79</th>\n",
       "      <td>23</td>\n",
       "      <td>Female</td>\n",
       "      <td>three</td>\n",
       "      <td>no</td>\n",
       "      <td>more than 5</td>\n",
       "      <td>yes</td>\n",
       "      <td>east</td>\n",
       "      <td>sometimes</td>\n",
       "      <td>no</td>\n",
       "      <td>Tea</td>\n",
       "      <td>8.0</td>\n",
       "    </tr>\n",
       "  </tbody>\n",
       "</table>\n",
       "<p>77 rows × 11 columns</p>\n",
       "</div>"
      ],
      "text/plain": [
       "    Age  Gender meals/day  ... smoke/drink             beverage sleep time\n",
       "0    20    Male         4  ...          No                  Tea        8.0\n",
       "1    21    Male         3  ...          No  Tea and coffee both        8.0\n",
       "2    20    Male         3  ...          No                 None        7.0\n",
       "3    19    Male         4  ...          No                 None        8.0\n",
       "4    45  Female         3  ...          No                 None        6.0\n",
       "..  ...     ...       ...  ...         ...                  ...        ...\n",
       "74   22  Female       two  ...          no                  Tea        6.0\n",
       "75   22    Male     three  ...          no                  Tea        6.0\n",
       "76   21    Male       two  ...          no                  Tea        7.0\n",
       "77   24    Male     three  ...          no    none of the above        4.0\n",
       "79   23  Female     three  ...          no                  Tea        8.0\n",
       "\n",
       "[77 rows x 11 columns]"
      ]
     },
     "execution_count": 5,
     "metadata": {},
     "output_type": "execute_result"
    }
   ],
   "source": [
    "sleep_data.reset_index()\n",
    "sleep_data"
   ]
  },
  {
   "cell_type": "code",
   "execution_count": 6,
   "metadata": {
    "colab": {
     "base_uri": "https://localhost:8080/"
    },
    "id": "w9TfTquehXdP",
    "outputId": "d4e38c63-8fb6-413f-c8e0-6c3858061f20"
   },
   "outputs": [
    {
     "name": "stdout",
     "output_type": "stream",
     "text": [
      "<class 'pandas.core.frame.DataFrame'>\n",
      "Int64Index: 77 entries, 0 to 79\n",
      "Data columns (total 11 columns):\n",
      " #   Column            Non-Null Count  Dtype  \n",
      "---  ------            --------------  -----  \n",
      " 0   Age               77 non-null     int64  \n",
      " 1   Gender            77 non-null     object \n",
      " 2   meals/day         77 non-null     object \n",
      " 3   physical illness  77 non-null     object \n",
      " 4   screen time       77 non-null     object \n",
      " 5   bluelight filter  77 non-null     object \n",
      " 6   sleep direction   77 non-null     object \n",
      " 7   exercise          77 non-null     object \n",
      " 8   smoke/drink       77 non-null     object \n",
      " 9   beverage          77 non-null     object \n",
      " 10  sleep time        77 non-null     float64\n",
      "dtypes: float64(1), int64(1), object(9)\n",
      "memory usage: 7.2+ KB\n"
     ]
    }
   ],
   "source": [
    "sleep_data.info()"
   ]
  },
  {
   "cell_type": "code",
   "execution_count": 7,
   "metadata": {
    "colab": {
     "base_uri": "https://localhost:8080/"
    },
    "id": "U6UsFDCT0QLX",
    "outputId": "454ac565-9046-41c9-99e9-4e4579ed5606"
   },
   "outputs": [
    {
     "data": {
      "text/plain": [
       "array(['more than 5', 'more than 5 hrs', '4-5 hrs', '3-4 hrs', '2-3 hrs',\n",
       "       '1-2 hrs', '0-1 hrs'], dtype=object)"
      ]
     },
     "execution_count": 7,
     "metadata": {},
     "output_type": "execute_result"
    }
   ],
   "source": [
    "sleep_data['screen time'].unique()"
   ]
  },
  {
   "cell_type": "code",
   "execution_count": 8,
   "metadata": {
    "id": "oYVKBF4QhiZ6"
   },
   "outputs": [],
   "source": [
    "sleep_data['screen time'].replace('more than 5 hrs','more than 5',inplace=True)"
   ]
  },
  {
   "cell_type": "code",
   "execution_count": 9,
   "metadata": {
    "colab": {
     "base_uri": "https://localhost:8080/"
    },
    "id": "cawef0xf2XSl",
    "outputId": "2393c360-d25e-4f2e-e368-a09ad81df1cf"
   },
   "outputs": [
    {
     "data": {
      "text/plain": [
       "array(['Tea', 'Tea and coffee both', 'None', 'Coffee',\n",
       "       'Tea and Coffee both', 'none of the above'], dtype=object)"
      ]
     },
     "execution_count": 9,
     "metadata": {},
     "output_type": "execute_result"
    }
   ],
   "source": [
    "sleep_data['beverage'].unique()"
   ]
  },
  {
   "cell_type": "code",
   "execution_count": 10,
   "metadata": {
    "id": "T5l4iANniGTM"
   },
   "outputs": [],
   "source": [
    "sleep_data['beverage'].replace(['none of the above','Tea and coffee both'],['None','Tea and Coffee both'],inplace=True)"
   ]
  },
  {
   "cell_type": "code",
   "execution_count": 11,
   "metadata": {
    "id": "P0-DIrLF3GDB"
   },
   "outputs": [],
   "source": [
    "sleep_data['Tea']=np.where((sleep_data['beverage']=='Tea') | (sleep_data['beverage']=='Tea and Coffee both'),1,0)"
   ]
  },
  {
   "cell_type": "code",
   "execution_count": 12,
   "metadata": {
    "colab": {
     "base_uri": "https://localhost:8080/",
     "height": 206
    },
    "id": "-Uu8PS4i4v_j",
    "outputId": "68a16ede-a41b-4992-ba57-1ec5fa9530d6"
   },
   "outputs": [
    {
     "data": {
      "text/html": [
       "<div>\n",
       "<style scoped>\n",
       "    .dataframe tbody tr th:only-of-type {\n",
       "        vertical-align: middle;\n",
       "    }\n",
       "\n",
       "    .dataframe tbody tr th {\n",
       "        vertical-align: top;\n",
       "    }\n",
       "\n",
       "    .dataframe thead th {\n",
       "        text-align: right;\n",
       "    }\n",
       "</style>\n",
       "<table border=\"1\" class=\"dataframe\">\n",
       "  <thead>\n",
       "    <tr style=\"text-align: right;\">\n",
       "      <th></th>\n",
       "      <th>Age</th>\n",
       "      <th>Gender</th>\n",
       "      <th>meals/day</th>\n",
       "      <th>physical illness</th>\n",
       "      <th>screen time</th>\n",
       "      <th>bluelight filter</th>\n",
       "      <th>sleep direction</th>\n",
       "      <th>exercise</th>\n",
       "      <th>smoke/drink</th>\n",
       "      <th>beverage</th>\n",
       "      <th>sleep time</th>\n",
       "      <th>Tea</th>\n",
       "    </tr>\n",
       "  </thead>\n",
       "  <tbody>\n",
       "    <tr>\n",
       "      <th>0</th>\n",
       "      <td>20</td>\n",
       "      <td>Male</td>\n",
       "      <td>4</td>\n",
       "      <td>No</td>\n",
       "      <td>more than 5</td>\n",
       "      <td>No</td>\n",
       "      <td>West</td>\n",
       "      <td>Sometimes</td>\n",
       "      <td>No</td>\n",
       "      <td>Tea</td>\n",
       "      <td>8.0</td>\n",
       "      <td>1</td>\n",
       "    </tr>\n",
       "    <tr>\n",
       "      <th>1</th>\n",
       "      <td>21</td>\n",
       "      <td>Male</td>\n",
       "      <td>3</td>\n",
       "      <td>No</td>\n",
       "      <td>more than 5</td>\n",
       "      <td>No</td>\n",
       "      <td>North</td>\n",
       "      <td>Sometimes</td>\n",
       "      <td>No</td>\n",
       "      <td>Tea and Coffee both</td>\n",
       "      <td>8.0</td>\n",
       "      <td>1</td>\n",
       "    </tr>\n",
       "    <tr>\n",
       "      <th>2</th>\n",
       "      <td>20</td>\n",
       "      <td>Male</td>\n",
       "      <td>3</td>\n",
       "      <td>No</td>\n",
       "      <td>more than 5</td>\n",
       "      <td>No</td>\n",
       "      <td>North</td>\n",
       "      <td>Yes</td>\n",
       "      <td>No</td>\n",
       "      <td>None</td>\n",
       "      <td>7.0</td>\n",
       "      <td>0</td>\n",
       "    </tr>\n",
       "    <tr>\n",
       "      <th>3</th>\n",
       "      <td>19</td>\n",
       "      <td>Male</td>\n",
       "      <td>4</td>\n",
       "      <td>No</td>\n",
       "      <td>4-5 hrs</td>\n",
       "      <td>No</td>\n",
       "      <td>East</td>\n",
       "      <td>Yes</td>\n",
       "      <td>No</td>\n",
       "      <td>None</td>\n",
       "      <td>8.0</td>\n",
       "      <td>0</td>\n",
       "    </tr>\n",
       "    <tr>\n",
       "      <th>4</th>\n",
       "      <td>45</td>\n",
       "      <td>Female</td>\n",
       "      <td>3</td>\n",
       "      <td>No</td>\n",
       "      <td>3-4 hrs</td>\n",
       "      <td>No</td>\n",
       "      <td>North</td>\n",
       "      <td>Sometimes</td>\n",
       "      <td>No</td>\n",
       "      <td>None</td>\n",
       "      <td>6.0</td>\n",
       "      <td>0</td>\n",
       "    </tr>\n",
       "  </tbody>\n",
       "</table>\n",
       "</div>"
      ],
      "text/plain": [
       "   Age  Gender meals/day  ...             beverage sleep time Tea\n",
       "0   20    Male         4  ...                  Tea        8.0   1\n",
       "1   21    Male         3  ...  Tea and Coffee both        8.0   1\n",
       "2   20    Male         3  ...                 None        7.0   0\n",
       "3   19    Male         4  ...                 None        8.0   0\n",
       "4   45  Female         3  ...                 None        6.0   0\n",
       "\n",
       "[5 rows x 12 columns]"
      ]
     },
     "execution_count": 12,
     "metadata": {},
     "output_type": "execute_result"
    }
   ],
   "source": [
    "sleep_data.head()"
   ]
  },
  {
   "cell_type": "code",
   "execution_count": 13,
   "metadata": {
    "id": "u1q8Ac7G5Zb5"
   },
   "outputs": [],
   "source": [
    "sleep_data['Coffee']=np.where((sleep_data['beverage']=='Coffee') | (sleep_data['beverage']=='Tea and Coffee both'),1,0)"
   ]
  },
  {
   "cell_type": "code",
   "execution_count": 14,
   "metadata": {
    "colab": {
     "base_uri": "https://localhost:8080/",
     "height": 206
    },
    "id": "j3UlhbgN5yQy",
    "outputId": "810cacc9-918a-4243-907a-8d9e11052667"
   },
   "outputs": [
    {
     "data": {
      "text/html": [
       "<div>\n",
       "<style scoped>\n",
       "    .dataframe tbody tr th:only-of-type {\n",
       "        vertical-align: middle;\n",
       "    }\n",
       "\n",
       "    .dataframe tbody tr th {\n",
       "        vertical-align: top;\n",
       "    }\n",
       "\n",
       "    .dataframe thead th {\n",
       "        text-align: right;\n",
       "    }\n",
       "</style>\n",
       "<table border=\"1\" class=\"dataframe\">\n",
       "  <thead>\n",
       "    <tr style=\"text-align: right;\">\n",
       "      <th></th>\n",
       "      <th>Age</th>\n",
       "      <th>Gender</th>\n",
       "      <th>meals/day</th>\n",
       "      <th>physical illness</th>\n",
       "      <th>screen time</th>\n",
       "      <th>bluelight filter</th>\n",
       "      <th>sleep direction</th>\n",
       "      <th>exercise</th>\n",
       "      <th>smoke/drink</th>\n",
       "      <th>beverage</th>\n",
       "      <th>sleep time</th>\n",
       "      <th>Tea</th>\n",
       "      <th>Coffee</th>\n",
       "    </tr>\n",
       "  </thead>\n",
       "  <tbody>\n",
       "    <tr>\n",
       "      <th>0</th>\n",
       "      <td>20</td>\n",
       "      <td>Male</td>\n",
       "      <td>4</td>\n",
       "      <td>No</td>\n",
       "      <td>more than 5</td>\n",
       "      <td>No</td>\n",
       "      <td>West</td>\n",
       "      <td>Sometimes</td>\n",
       "      <td>No</td>\n",
       "      <td>Tea</td>\n",
       "      <td>8.0</td>\n",
       "      <td>1</td>\n",
       "      <td>0</td>\n",
       "    </tr>\n",
       "    <tr>\n",
       "      <th>1</th>\n",
       "      <td>21</td>\n",
       "      <td>Male</td>\n",
       "      <td>3</td>\n",
       "      <td>No</td>\n",
       "      <td>more than 5</td>\n",
       "      <td>No</td>\n",
       "      <td>North</td>\n",
       "      <td>Sometimes</td>\n",
       "      <td>No</td>\n",
       "      <td>Tea and Coffee both</td>\n",
       "      <td>8.0</td>\n",
       "      <td>1</td>\n",
       "      <td>1</td>\n",
       "    </tr>\n",
       "    <tr>\n",
       "      <th>2</th>\n",
       "      <td>20</td>\n",
       "      <td>Male</td>\n",
       "      <td>3</td>\n",
       "      <td>No</td>\n",
       "      <td>more than 5</td>\n",
       "      <td>No</td>\n",
       "      <td>North</td>\n",
       "      <td>Yes</td>\n",
       "      <td>No</td>\n",
       "      <td>None</td>\n",
       "      <td>7.0</td>\n",
       "      <td>0</td>\n",
       "      <td>0</td>\n",
       "    </tr>\n",
       "    <tr>\n",
       "      <th>3</th>\n",
       "      <td>19</td>\n",
       "      <td>Male</td>\n",
       "      <td>4</td>\n",
       "      <td>No</td>\n",
       "      <td>4-5 hrs</td>\n",
       "      <td>No</td>\n",
       "      <td>East</td>\n",
       "      <td>Yes</td>\n",
       "      <td>No</td>\n",
       "      <td>None</td>\n",
       "      <td>8.0</td>\n",
       "      <td>0</td>\n",
       "      <td>0</td>\n",
       "    </tr>\n",
       "    <tr>\n",
       "      <th>4</th>\n",
       "      <td>45</td>\n",
       "      <td>Female</td>\n",
       "      <td>3</td>\n",
       "      <td>No</td>\n",
       "      <td>3-4 hrs</td>\n",
       "      <td>No</td>\n",
       "      <td>North</td>\n",
       "      <td>Sometimes</td>\n",
       "      <td>No</td>\n",
       "      <td>None</td>\n",
       "      <td>6.0</td>\n",
       "      <td>0</td>\n",
       "      <td>0</td>\n",
       "    </tr>\n",
       "  </tbody>\n",
       "</table>\n",
       "</div>"
      ],
      "text/plain": [
       "   Age  Gender meals/day  ... sleep time Tea Coffee\n",
       "0   20    Male         4  ...        8.0   1      0\n",
       "1   21    Male         3  ...        8.0   1      1\n",
       "2   20    Male         3  ...        7.0   0      0\n",
       "3   19    Male         4  ...        8.0   0      0\n",
       "4   45  Female         3  ...        6.0   0      0\n",
       "\n",
       "[5 rows x 13 columns]"
      ]
     },
     "execution_count": 14,
     "metadata": {},
     "output_type": "execute_result"
    }
   ],
   "source": [
    "sleep_data.head()"
   ]
  },
  {
   "cell_type": "code",
   "execution_count": 15,
   "metadata": {
    "colab": {
     "base_uri": "https://localhost:8080/"
    },
    "id": "cWON-1qF51_f",
    "outputId": "d3d6834d-b2a2-4bf7-b266-0eef43a48ab5"
   },
   "outputs": [
    {
     "data": {
      "text/plain": [
       "array(['Sometimes', 'Yes', 'No', 'no', 'sometimes', 'yes'], dtype=object)"
      ]
     },
     "execution_count": 15,
     "metadata": {},
     "output_type": "execute_result"
    }
   ],
   "source": [
    "sleep_data['exercise'].unique()"
   ]
  },
  {
   "cell_type": "code",
   "execution_count": 16,
   "metadata": {
    "id": "TcPv1uQLiz4S"
   },
   "outputs": [],
   "source": [
    "sleep_data['exercise'].replace(['Yes','No'],['yes','no'],inplace=True)"
   ]
  },
  {
   "cell_type": "code",
   "execution_count": 17,
   "metadata": {
    "id": "QiJRilnAjHJx"
   },
   "outputs": [],
   "source": [
    "sleep_data['exercise'].replace('Sometimes','sometimes',inplace=True)"
   ]
  },
  {
   "cell_type": "code",
   "execution_count": 18,
   "metadata": {
    "colab": {
     "base_uri": "https://localhost:8080/"
    },
    "id": "Dg9BQUyTjk8A",
    "outputId": "9f94620d-659c-41fa-acf8-7d195210ead7"
   },
   "outputs": [
    {
     "name": "stdout",
     "output_type": "stream",
     "text": [
      "[20 21 19 45 17 26 47 58 18 25 30 28 31 22 23 24 59 39 50]\n",
      "['Male' 'Female']\n",
      "[4 3 5 2 'three' 'two' 'four' 'five' 'one']\n",
      "['No' 'Yes' 'no' 'yes']\n",
      "['more than 5' '4-5 hrs' '3-4 hrs' '2-3 hrs' '1-2 hrs' '0-1 hrs']\n",
      "['No' 'Yes' 'no' 'yes']\n",
      "['West' 'North' 'East' 'South' 'south' 'east' 'west' 'north']\n",
      "['sometimes' 'yes' 'no']\n",
      "['No' 'Yes' 'no' 'yes']\n",
      "['Tea' 'Tea and Coffee both' 'None' 'Coffee']\n",
      "[ 8.      7.      6.      5.9     8.5     6.5     7.5    10.      6.7575\n",
      "  5.      3.33    9.      4.    ]\n",
      "[1 0]\n",
      "[0 1]\n"
     ]
    }
   ],
   "source": [
    "for i in sleep_data.columns:\n",
    "    print(sleep_data[i].unique())"
   ]
  },
  {
   "cell_type": "code",
   "execution_count": 19,
   "metadata": {
    "id": "KEq9jo3N6XNp"
   },
   "outputs": [],
   "source": [
    "sleep_data['physical illness'].replace(('Yes','No','yes','no'),(1,0,1,0),inplace=True)"
   ]
  },
  {
   "cell_type": "code",
   "execution_count": 20,
   "metadata": {
    "id": "VfFVlegm-qpK"
   },
   "outputs": [],
   "source": [
    "sleep_data['bluelight filter'].replace(('Yes','No','yes','no'),(1,0,1,0),inplace=True)"
   ]
  },
  {
   "cell_type": "code",
   "execution_count": 21,
   "metadata": {
    "id": "0c2SyE2w-0Ar"
   },
   "outputs": [],
   "source": [
    "sleep_data['Gender'].replace(('Male','Female'),(1,0),inplace=True)"
   ]
  },
  {
   "cell_type": "code",
   "execution_count": 22,
   "metadata": {
    "id": "Qrpk8Jl4CXPp"
   },
   "outputs": [],
   "source": [
    "sleep_data['smoke/drink'].replace(('Yes','No','yes','no'),(1,0,1,0),inplace=True)\n",
    "sleep_data['exercise'].replace(('yes','no','sometimes'),(1,0,1),inplace=True)"
   ]
  },
  {
   "cell_type": "code",
   "execution_count": 23,
   "metadata": {
    "colab": {
     "base_uri": "https://localhost:8080/"
    },
    "id": "4ry0TBhj_L1F",
    "outputId": "27ca0fd0-1908-41eb-b8fe-5ed855e23136"
   },
   "outputs": [
    {
     "data": {
      "text/plain": [
       "array([4, 3, 5, 2, 'three', 'two', 'four', 'five', 'one'], dtype=object)"
      ]
     },
     "execution_count": 23,
     "metadata": {},
     "output_type": "execute_result"
    }
   ],
   "source": [
    "sleep_data['meals/day'].unique()"
   ]
  },
  {
   "cell_type": "code",
   "execution_count": 24,
   "metadata": {
    "colab": {
     "base_uri": "https://localhost:8080/"
    },
    "id": "IQLGYdXXAQl9",
    "outputId": "9406f448-8e49-43b2-9c82-cd3df4133ec4"
   },
   "outputs": [
    {
     "data": {
      "text/plain": [
       "three    21\n",
       "3        16\n",
       "two      15\n",
       "4         9\n",
       "2         6\n",
       "5         3\n",
       "four      3\n",
       "one       3\n",
       "five      1\n",
       "Name: meals/day, dtype: int64"
      ]
     },
     "execution_count": 24,
     "metadata": {},
     "output_type": "execute_result"
    }
   ],
   "source": [
    "sleep_data['meals/day'].value_counts()"
   ]
  },
  {
   "cell_type": "code",
   "execution_count": 25,
   "metadata": {
    "id": "65gSXj0T_Qew"
   },
   "outputs": [],
   "source": [
    "sleep_data['meals/day'].replace(('one','two','three','four','five'),(1,2,3,4,5),inplace=True)"
   ]
  },
  {
   "cell_type": "code",
   "execution_count": 26,
   "metadata": {
    "colab": {
     "base_uri": "https://localhost:8080/"
    },
    "id": "AsFRll-EmJEn",
    "outputId": "2096a2e8-a02c-4338-f643-4d10e640c036"
   },
   "outputs": [
    {
     "name": "stdout",
     "output_type": "stream",
     "text": [
      "<class 'pandas.core.frame.DataFrame'>\n",
      "Int64Index: 77 entries, 0 to 79\n",
      "Data columns (total 13 columns):\n",
      " #   Column            Non-Null Count  Dtype  \n",
      "---  ------            --------------  -----  \n",
      " 0   Age               77 non-null     int64  \n",
      " 1   Gender            77 non-null     int64  \n",
      " 2   meals/day         77 non-null     int64  \n",
      " 3   physical illness  77 non-null     int64  \n",
      " 4   screen time       77 non-null     object \n",
      " 5   bluelight filter  77 non-null     int64  \n",
      " 6   sleep direction   77 non-null     object \n",
      " 7   exercise          77 non-null     int64  \n",
      " 8   smoke/drink       77 non-null     int64  \n",
      " 9   beverage          77 non-null     object \n",
      " 10  sleep time        77 non-null     float64\n",
      " 11  Tea               77 non-null     int64  \n",
      " 12  Coffee            77 non-null     int64  \n",
      "dtypes: float64(1), int64(9), object(3)\n",
      "memory usage: 8.4+ KB\n"
     ]
    }
   ],
   "source": [
    "sleep_data.info()"
   ]
  },
  {
   "cell_type": "code",
   "execution_count": 27,
   "metadata": {
    "colab": {
     "base_uri": "https://localhost:8080/"
    },
    "id": "AUG8p4kMBBT7",
    "outputId": "2c654071-bb5f-40f6-e6b6-695fd39d8a7a"
   },
   "outputs": [
    {
     "data": {
      "text/plain": [
       "array(['more than 5', '4-5 hrs', '3-4 hrs', '2-3 hrs', '1-2 hrs',\n",
       "       '0-1 hrs'], dtype=object)"
      ]
     },
     "execution_count": 27,
     "metadata": {},
     "output_type": "execute_result"
    }
   ],
   "source": [
    "sleep_data['screen time'].unique()"
   ]
  },
  {
   "cell_type": "code",
   "execution_count": 28,
   "metadata": {
    "id": "X9tMu1c2Adu5"
   },
   "outputs": [],
   "source": [
    "sleep_data['screen time'].replace(('0-1 hrs','1-2 hrs','2hrs','2-3 hrs','3-4 hrs','4-5 hrs','more than 5'),(0.5,1.5,2,2.5,3.5,4.5,6),inplace=True)"
   ]
  },
  {
   "cell_type": "code",
   "execution_count": 29,
   "metadata": {
    "colab": {
     "base_uri": "https://localhost:8080/",
     "height": 206
    },
    "id": "6iu5Hu3kCZgw",
    "outputId": "c7ea13e9-b23d-4604-c4f2-c5702dd063cb"
   },
   "outputs": [
    {
     "data": {
      "text/html": [
       "<div>\n",
       "<style scoped>\n",
       "    .dataframe tbody tr th:only-of-type {\n",
       "        vertical-align: middle;\n",
       "    }\n",
       "\n",
       "    .dataframe tbody tr th {\n",
       "        vertical-align: top;\n",
       "    }\n",
       "\n",
       "    .dataframe thead th {\n",
       "        text-align: right;\n",
       "    }\n",
       "</style>\n",
       "<table border=\"1\" class=\"dataframe\">\n",
       "  <thead>\n",
       "    <tr style=\"text-align: right;\">\n",
       "      <th></th>\n",
       "      <th>Age</th>\n",
       "      <th>Gender</th>\n",
       "      <th>meals/day</th>\n",
       "      <th>physical illness</th>\n",
       "      <th>screen time</th>\n",
       "      <th>bluelight filter</th>\n",
       "      <th>sleep direction</th>\n",
       "      <th>exercise</th>\n",
       "      <th>smoke/drink</th>\n",
       "      <th>beverage</th>\n",
       "      <th>sleep time</th>\n",
       "      <th>Tea</th>\n",
       "      <th>Coffee</th>\n",
       "    </tr>\n",
       "  </thead>\n",
       "  <tbody>\n",
       "    <tr>\n",
       "      <th>0</th>\n",
       "      <td>20</td>\n",
       "      <td>1</td>\n",
       "      <td>4</td>\n",
       "      <td>0</td>\n",
       "      <td>6.0</td>\n",
       "      <td>0</td>\n",
       "      <td>West</td>\n",
       "      <td>1</td>\n",
       "      <td>0</td>\n",
       "      <td>Tea</td>\n",
       "      <td>8.0</td>\n",
       "      <td>1</td>\n",
       "      <td>0</td>\n",
       "    </tr>\n",
       "    <tr>\n",
       "      <th>1</th>\n",
       "      <td>21</td>\n",
       "      <td>1</td>\n",
       "      <td>3</td>\n",
       "      <td>0</td>\n",
       "      <td>6.0</td>\n",
       "      <td>0</td>\n",
       "      <td>North</td>\n",
       "      <td>1</td>\n",
       "      <td>0</td>\n",
       "      <td>Tea and Coffee both</td>\n",
       "      <td>8.0</td>\n",
       "      <td>1</td>\n",
       "      <td>1</td>\n",
       "    </tr>\n",
       "    <tr>\n",
       "      <th>2</th>\n",
       "      <td>20</td>\n",
       "      <td>1</td>\n",
       "      <td>3</td>\n",
       "      <td>0</td>\n",
       "      <td>6.0</td>\n",
       "      <td>0</td>\n",
       "      <td>North</td>\n",
       "      <td>1</td>\n",
       "      <td>0</td>\n",
       "      <td>None</td>\n",
       "      <td>7.0</td>\n",
       "      <td>0</td>\n",
       "      <td>0</td>\n",
       "    </tr>\n",
       "    <tr>\n",
       "      <th>3</th>\n",
       "      <td>19</td>\n",
       "      <td>1</td>\n",
       "      <td>4</td>\n",
       "      <td>0</td>\n",
       "      <td>4.5</td>\n",
       "      <td>0</td>\n",
       "      <td>East</td>\n",
       "      <td>1</td>\n",
       "      <td>0</td>\n",
       "      <td>None</td>\n",
       "      <td>8.0</td>\n",
       "      <td>0</td>\n",
       "      <td>0</td>\n",
       "    </tr>\n",
       "    <tr>\n",
       "      <th>4</th>\n",
       "      <td>45</td>\n",
       "      <td>0</td>\n",
       "      <td>3</td>\n",
       "      <td>0</td>\n",
       "      <td>3.5</td>\n",
       "      <td>0</td>\n",
       "      <td>North</td>\n",
       "      <td>1</td>\n",
       "      <td>0</td>\n",
       "      <td>None</td>\n",
       "      <td>6.0</td>\n",
       "      <td>0</td>\n",
       "      <td>0</td>\n",
       "    </tr>\n",
       "  </tbody>\n",
       "</table>\n",
       "</div>"
      ],
      "text/plain": [
       "   Age  Gender  meals/day  ...  sleep time  Tea  Coffee\n",
       "0   20       1          4  ...         8.0    1       0\n",
       "1   21       1          3  ...         8.0    1       1\n",
       "2   20       1          3  ...         7.0    0       0\n",
       "3   19       1          4  ...         8.0    0       0\n",
       "4   45       0          3  ...         6.0    0       0\n",
       "\n",
       "[5 rows x 13 columns]"
      ]
     },
     "execution_count": 29,
     "metadata": {},
     "output_type": "execute_result"
    }
   ],
   "source": [
    "sleep_data.head()"
   ]
  },
  {
   "cell_type": "code",
   "execution_count": 30,
   "metadata": {
    "id": "VvNIL2EFCslD"
   },
   "outputs": [],
   "source": [
    "sleep_data['west']=np.where((sleep_data['sleep direction']=='west')|(sleep_data['sleep direction']=='West'),1,0)\n",
    "sleep_data['east']=np.where((sleep_data['sleep direction']=='east')|(sleep_data['sleep direction']=='East'),1,0)\n",
    "sleep_data['south']=np.where((sleep_data['sleep direction']=='south')|(sleep_data['sleep direction']=='South'),1,0)"
   ]
  },
  {
   "cell_type": "code",
   "execution_count": 31,
   "metadata": {
    "colab": {
     "base_uri": "https://localhost:8080/",
     "height": 206
    },
    "id": "80vJCJ52DicW",
    "outputId": "9c5422d8-deae-4d95-b460-532430545cb9"
   },
   "outputs": [
    {
     "data": {
      "text/html": [
       "<div>\n",
       "<style scoped>\n",
       "    .dataframe tbody tr th:only-of-type {\n",
       "        vertical-align: middle;\n",
       "    }\n",
       "\n",
       "    .dataframe tbody tr th {\n",
       "        vertical-align: top;\n",
       "    }\n",
       "\n",
       "    .dataframe thead th {\n",
       "        text-align: right;\n",
       "    }\n",
       "</style>\n",
       "<table border=\"1\" class=\"dataframe\">\n",
       "  <thead>\n",
       "    <tr style=\"text-align: right;\">\n",
       "      <th></th>\n",
       "      <th>Age</th>\n",
       "      <th>Gender</th>\n",
       "      <th>meals/day</th>\n",
       "      <th>physical illness</th>\n",
       "      <th>screen time</th>\n",
       "      <th>bluelight filter</th>\n",
       "      <th>sleep direction</th>\n",
       "      <th>exercise</th>\n",
       "      <th>smoke/drink</th>\n",
       "      <th>beverage</th>\n",
       "      <th>sleep time</th>\n",
       "      <th>Tea</th>\n",
       "      <th>Coffee</th>\n",
       "      <th>west</th>\n",
       "      <th>east</th>\n",
       "      <th>south</th>\n",
       "    </tr>\n",
       "  </thead>\n",
       "  <tbody>\n",
       "    <tr>\n",
       "      <th>0</th>\n",
       "      <td>20</td>\n",
       "      <td>1</td>\n",
       "      <td>4</td>\n",
       "      <td>0</td>\n",
       "      <td>6.0</td>\n",
       "      <td>0</td>\n",
       "      <td>West</td>\n",
       "      <td>1</td>\n",
       "      <td>0</td>\n",
       "      <td>Tea</td>\n",
       "      <td>8.0</td>\n",
       "      <td>1</td>\n",
       "      <td>0</td>\n",
       "      <td>1</td>\n",
       "      <td>0</td>\n",
       "      <td>0</td>\n",
       "    </tr>\n",
       "    <tr>\n",
       "      <th>1</th>\n",
       "      <td>21</td>\n",
       "      <td>1</td>\n",
       "      <td>3</td>\n",
       "      <td>0</td>\n",
       "      <td>6.0</td>\n",
       "      <td>0</td>\n",
       "      <td>North</td>\n",
       "      <td>1</td>\n",
       "      <td>0</td>\n",
       "      <td>Tea and Coffee both</td>\n",
       "      <td>8.0</td>\n",
       "      <td>1</td>\n",
       "      <td>1</td>\n",
       "      <td>0</td>\n",
       "      <td>0</td>\n",
       "      <td>0</td>\n",
       "    </tr>\n",
       "    <tr>\n",
       "      <th>2</th>\n",
       "      <td>20</td>\n",
       "      <td>1</td>\n",
       "      <td>3</td>\n",
       "      <td>0</td>\n",
       "      <td>6.0</td>\n",
       "      <td>0</td>\n",
       "      <td>North</td>\n",
       "      <td>1</td>\n",
       "      <td>0</td>\n",
       "      <td>None</td>\n",
       "      <td>7.0</td>\n",
       "      <td>0</td>\n",
       "      <td>0</td>\n",
       "      <td>0</td>\n",
       "      <td>0</td>\n",
       "      <td>0</td>\n",
       "    </tr>\n",
       "    <tr>\n",
       "      <th>3</th>\n",
       "      <td>19</td>\n",
       "      <td>1</td>\n",
       "      <td>4</td>\n",
       "      <td>0</td>\n",
       "      <td>4.5</td>\n",
       "      <td>0</td>\n",
       "      <td>East</td>\n",
       "      <td>1</td>\n",
       "      <td>0</td>\n",
       "      <td>None</td>\n",
       "      <td>8.0</td>\n",
       "      <td>0</td>\n",
       "      <td>0</td>\n",
       "      <td>0</td>\n",
       "      <td>1</td>\n",
       "      <td>0</td>\n",
       "    </tr>\n",
       "    <tr>\n",
       "      <th>4</th>\n",
       "      <td>45</td>\n",
       "      <td>0</td>\n",
       "      <td>3</td>\n",
       "      <td>0</td>\n",
       "      <td>3.5</td>\n",
       "      <td>0</td>\n",
       "      <td>North</td>\n",
       "      <td>1</td>\n",
       "      <td>0</td>\n",
       "      <td>None</td>\n",
       "      <td>6.0</td>\n",
       "      <td>0</td>\n",
       "      <td>0</td>\n",
       "      <td>0</td>\n",
       "      <td>0</td>\n",
       "      <td>0</td>\n",
       "    </tr>\n",
       "  </tbody>\n",
       "</table>\n",
       "</div>"
      ],
      "text/plain": [
       "   Age  Gender  meals/day  physical illness  ...  Coffee  west east  south\n",
       "0   20       1          4                 0  ...       0     1    0      0\n",
       "1   21       1          3                 0  ...       1     0    0      0\n",
       "2   20       1          3                 0  ...       0     0    0      0\n",
       "3   19       1          4                 0  ...       0     0    1      0\n",
       "4   45       0          3                 0  ...       0     0    0      0\n",
       "\n",
       "[5 rows x 16 columns]"
      ]
     },
     "execution_count": 31,
     "metadata": {},
     "output_type": "execute_result"
    }
   ],
   "source": [
    "sleep_data.head()"
   ]
  },
  {
   "cell_type": "code",
   "execution_count": 32,
   "metadata": {
    "id": "Yzy9Fwv_Dkul"
   },
   "outputs": [],
   "source": [
    "#sleep_data.to_csv('Combined_Sleep_Analysis.csv')"
   ]
  },
  {
   "cell_type": "code",
   "execution_count": 33,
   "metadata": {
    "colab": {
     "base_uri": "https://localhost:8080/",
     "height": 423
    },
    "id": "H41IkyV8EudO",
    "outputId": "4687d55c-7a0d-46ac-c020-dbccb90a7f0f"
   },
   "outputs": [
    {
     "data": {
      "text/html": [
       "<div>\n",
       "<style scoped>\n",
       "    .dataframe tbody tr th:only-of-type {\n",
       "        vertical-align: middle;\n",
       "    }\n",
       "\n",
       "    .dataframe tbody tr th {\n",
       "        vertical-align: top;\n",
       "    }\n",
       "\n",
       "    .dataframe thead th {\n",
       "        text-align: right;\n",
       "    }\n",
       "</style>\n",
       "<table border=\"1\" class=\"dataframe\">\n",
       "  <thead>\n",
       "    <tr style=\"text-align: right;\">\n",
       "      <th></th>\n",
       "      <th>Age</th>\n",
       "      <th>Gender</th>\n",
       "      <th>meals/day</th>\n",
       "      <th>physical illness</th>\n",
       "      <th>screen time</th>\n",
       "      <th>bluelight filter</th>\n",
       "      <th>sleep direction</th>\n",
       "      <th>exercise</th>\n",
       "      <th>smoke/drink</th>\n",
       "      <th>beverage</th>\n",
       "      <th>sleep time</th>\n",
       "      <th>Tea</th>\n",
       "      <th>Coffee</th>\n",
       "      <th>west</th>\n",
       "      <th>east</th>\n",
       "      <th>south</th>\n",
       "    </tr>\n",
       "  </thead>\n",
       "  <tbody>\n",
       "    <tr>\n",
       "      <th>0</th>\n",
       "      <td>20</td>\n",
       "      <td>1</td>\n",
       "      <td>4</td>\n",
       "      <td>0</td>\n",
       "      <td>6.0</td>\n",
       "      <td>0</td>\n",
       "      <td>West</td>\n",
       "      <td>1</td>\n",
       "      <td>0</td>\n",
       "      <td>Tea</td>\n",
       "      <td>8.0</td>\n",
       "      <td>1</td>\n",
       "      <td>0</td>\n",
       "      <td>1</td>\n",
       "      <td>0</td>\n",
       "      <td>0</td>\n",
       "    </tr>\n",
       "    <tr>\n",
       "      <th>1</th>\n",
       "      <td>21</td>\n",
       "      <td>1</td>\n",
       "      <td>3</td>\n",
       "      <td>0</td>\n",
       "      <td>6.0</td>\n",
       "      <td>0</td>\n",
       "      <td>North</td>\n",
       "      <td>1</td>\n",
       "      <td>0</td>\n",
       "      <td>Tea and Coffee both</td>\n",
       "      <td>8.0</td>\n",
       "      <td>1</td>\n",
       "      <td>1</td>\n",
       "      <td>0</td>\n",
       "      <td>0</td>\n",
       "      <td>0</td>\n",
       "    </tr>\n",
       "    <tr>\n",
       "      <th>2</th>\n",
       "      <td>20</td>\n",
       "      <td>1</td>\n",
       "      <td>3</td>\n",
       "      <td>0</td>\n",
       "      <td>6.0</td>\n",
       "      <td>0</td>\n",
       "      <td>North</td>\n",
       "      <td>1</td>\n",
       "      <td>0</td>\n",
       "      <td>None</td>\n",
       "      <td>7.0</td>\n",
       "      <td>0</td>\n",
       "      <td>0</td>\n",
       "      <td>0</td>\n",
       "      <td>0</td>\n",
       "      <td>0</td>\n",
       "    </tr>\n",
       "    <tr>\n",
       "      <th>3</th>\n",
       "      <td>19</td>\n",
       "      <td>1</td>\n",
       "      <td>4</td>\n",
       "      <td>0</td>\n",
       "      <td>4.5</td>\n",
       "      <td>0</td>\n",
       "      <td>East</td>\n",
       "      <td>1</td>\n",
       "      <td>0</td>\n",
       "      <td>None</td>\n",
       "      <td>8.0</td>\n",
       "      <td>0</td>\n",
       "      <td>0</td>\n",
       "      <td>0</td>\n",
       "      <td>1</td>\n",
       "      <td>0</td>\n",
       "    </tr>\n",
       "    <tr>\n",
       "      <th>4</th>\n",
       "      <td>45</td>\n",
       "      <td>0</td>\n",
       "      <td>3</td>\n",
       "      <td>0</td>\n",
       "      <td>3.5</td>\n",
       "      <td>0</td>\n",
       "      <td>North</td>\n",
       "      <td>1</td>\n",
       "      <td>0</td>\n",
       "      <td>None</td>\n",
       "      <td>6.0</td>\n",
       "      <td>0</td>\n",
       "      <td>0</td>\n",
       "      <td>0</td>\n",
       "      <td>0</td>\n",
       "      <td>0</td>\n",
       "    </tr>\n",
       "    <tr>\n",
       "      <th>...</th>\n",
       "      <td>...</td>\n",
       "      <td>...</td>\n",
       "      <td>...</td>\n",
       "      <td>...</td>\n",
       "      <td>...</td>\n",
       "      <td>...</td>\n",
       "      <td>...</td>\n",
       "      <td>...</td>\n",
       "      <td>...</td>\n",
       "      <td>...</td>\n",
       "      <td>...</td>\n",
       "      <td>...</td>\n",
       "      <td>...</td>\n",
       "      <td>...</td>\n",
       "      <td>...</td>\n",
       "      <td>...</td>\n",
       "    </tr>\n",
       "    <tr>\n",
       "      <th>74</th>\n",
       "      <td>22</td>\n",
       "      <td>0</td>\n",
       "      <td>2</td>\n",
       "      <td>0</td>\n",
       "      <td>3.5</td>\n",
       "      <td>0</td>\n",
       "      <td>south</td>\n",
       "      <td>1</td>\n",
       "      <td>0</td>\n",
       "      <td>Tea</td>\n",
       "      <td>6.0</td>\n",
       "      <td>1</td>\n",
       "      <td>0</td>\n",
       "      <td>0</td>\n",
       "      <td>0</td>\n",
       "      <td>1</td>\n",
       "    </tr>\n",
       "    <tr>\n",
       "      <th>75</th>\n",
       "      <td>22</td>\n",
       "      <td>1</td>\n",
       "      <td>3</td>\n",
       "      <td>0</td>\n",
       "      <td>3.5</td>\n",
       "      <td>0</td>\n",
       "      <td>east</td>\n",
       "      <td>1</td>\n",
       "      <td>0</td>\n",
       "      <td>Tea</td>\n",
       "      <td>6.0</td>\n",
       "      <td>1</td>\n",
       "      <td>0</td>\n",
       "      <td>0</td>\n",
       "      <td>1</td>\n",
       "      <td>0</td>\n",
       "    </tr>\n",
       "    <tr>\n",
       "      <th>76</th>\n",
       "      <td>21</td>\n",
       "      <td>1</td>\n",
       "      <td>2</td>\n",
       "      <td>0</td>\n",
       "      <td>6.0</td>\n",
       "      <td>0</td>\n",
       "      <td>east</td>\n",
       "      <td>1</td>\n",
       "      <td>0</td>\n",
       "      <td>Tea</td>\n",
       "      <td>7.0</td>\n",
       "      <td>1</td>\n",
       "      <td>0</td>\n",
       "      <td>0</td>\n",
       "      <td>1</td>\n",
       "      <td>0</td>\n",
       "    </tr>\n",
       "    <tr>\n",
       "      <th>77</th>\n",
       "      <td>24</td>\n",
       "      <td>1</td>\n",
       "      <td>3</td>\n",
       "      <td>0</td>\n",
       "      <td>6.0</td>\n",
       "      <td>1</td>\n",
       "      <td>east</td>\n",
       "      <td>1</td>\n",
       "      <td>0</td>\n",
       "      <td>None</td>\n",
       "      <td>4.0</td>\n",
       "      <td>0</td>\n",
       "      <td>0</td>\n",
       "      <td>0</td>\n",
       "      <td>1</td>\n",
       "      <td>0</td>\n",
       "    </tr>\n",
       "    <tr>\n",
       "      <th>79</th>\n",
       "      <td>23</td>\n",
       "      <td>0</td>\n",
       "      <td>3</td>\n",
       "      <td>0</td>\n",
       "      <td>6.0</td>\n",
       "      <td>1</td>\n",
       "      <td>east</td>\n",
       "      <td>1</td>\n",
       "      <td>0</td>\n",
       "      <td>Tea</td>\n",
       "      <td>8.0</td>\n",
       "      <td>1</td>\n",
       "      <td>0</td>\n",
       "      <td>0</td>\n",
       "      <td>1</td>\n",
       "      <td>0</td>\n",
       "    </tr>\n",
       "  </tbody>\n",
       "</table>\n",
       "<p>77 rows × 16 columns</p>\n",
       "</div>"
      ],
      "text/plain": [
       "    Age  Gender  meals/day  physical illness  ...  Coffee  west east  south\n",
       "0    20       1          4                 0  ...       0     1    0      0\n",
       "1    21       1          3                 0  ...       1     0    0      0\n",
       "2    20       1          3                 0  ...       0     0    0      0\n",
       "3    19       1          4                 0  ...       0     0    1      0\n",
       "4    45       0          3                 0  ...       0     0    0      0\n",
       "..  ...     ...        ...               ...  ...     ...   ...  ...    ...\n",
       "74   22       0          2                 0  ...       0     0    0      1\n",
       "75   22       1          3                 0  ...       0     0    1      0\n",
       "76   21       1          2                 0  ...       0     0    1      0\n",
       "77   24       1          3                 0  ...       0     0    1      0\n",
       "79   23       0          3                 0  ...       0     0    1      0\n",
       "\n",
       "[77 rows x 16 columns]"
      ]
     },
     "execution_count": 33,
     "metadata": {},
     "output_type": "execute_result"
    }
   ],
   "source": [
    "sleep_data"
   ]
  },
  {
   "cell_type": "code",
   "execution_count": 34,
   "metadata": {
    "colab": {
     "base_uri": "https://localhost:8080/"
    },
    "id": "fRGMae4_PU8_",
    "outputId": "6e0c1bfb-25a6-4062-f708-a0504f04ffd2"
   },
   "outputs": [
    {
     "name": "stdout",
     "output_type": "stream",
     "text": [
      "<class 'pandas.core.frame.DataFrame'>\n",
      "Int64Index: 77 entries, 0 to 79\n",
      "Data columns (total 16 columns):\n",
      " #   Column            Non-Null Count  Dtype  \n",
      "---  ------            --------------  -----  \n",
      " 0   Age               77 non-null     int64  \n",
      " 1   Gender            77 non-null     int64  \n",
      " 2   meals/day         77 non-null     int64  \n",
      " 3   physical illness  77 non-null     int64  \n",
      " 4   screen time       77 non-null     float64\n",
      " 5   bluelight filter  77 non-null     int64  \n",
      " 6   sleep direction   77 non-null     object \n",
      " 7   exercise          77 non-null     int64  \n",
      " 8   smoke/drink       77 non-null     int64  \n",
      " 9   beverage          77 non-null     object \n",
      " 10  sleep time        77 non-null     float64\n",
      " 11  Tea               77 non-null     int64  \n",
      " 12  Coffee            77 non-null     int64  \n",
      " 13  west              77 non-null     int64  \n",
      " 14  east              77 non-null     int64  \n",
      " 15  south             77 non-null     int64  \n",
      "dtypes: float64(2), int64(12), object(2)\n",
      "memory usage: 10.2+ KB\n"
     ]
    }
   ],
   "source": [
    "sleep_data.info()"
   ]
  },
  {
   "cell_type": "code",
   "execution_count": 35,
   "metadata": {
    "colab": {
     "base_uri": "https://localhost:8080/",
     "height": 206
    },
    "id": "0w9EPt_YQZf3",
    "outputId": "210745a8-0da6-4fad-d1ea-6aaa0c618da0"
   },
   "outputs": [
    {
     "data": {
      "text/html": [
       "<div>\n",
       "<style scoped>\n",
       "    .dataframe tbody tr th:only-of-type {\n",
       "        vertical-align: middle;\n",
       "    }\n",
       "\n",
       "    .dataframe tbody tr th {\n",
       "        vertical-align: top;\n",
       "    }\n",
       "\n",
       "    .dataframe thead th {\n",
       "        text-align: right;\n",
       "    }\n",
       "</style>\n",
       "<table border=\"1\" class=\"dataframe\">\n",
       "  <thead>\n",
       "    <tr style=\"text-align: right;\">\n",
       "      <th></th>\n",
       "      <th>Age</th>\n",
       "      <th>Gender</th>\n",
       "      <th>meals/day</th>\n",
       "      <th>physical illness</th>\n",
       "      <th>screen time</th>\n",
       "      <th>bluelight filter</th>\n",
       "      <th>exercise</th>\n",
       "      <th>smoke/drink</th>\n",
       "      <th>Tea</th>\n",
       "      <th>Coffee</th>\n",
       "      <th>west</th>\n",
       "      <th>east</th>\n",
       "      <th>south</th>\n",
       "    </tr>\n",
       "  </thead>\n",
       "  <tbody>\n",
       "    <tr>\n",
       "      <th>0</th>\n",
       "      <td>20</td>\n",
       "      <td>1</td>\n",
       "      <td>4</td>\n",
       "      <td>0</td>\n",
       "      <td>6.0</td>\n",
       "      <td>0</td>\n",
       "      <td>1</td>\n",
       "      <td>0</td>\n",
       "      <td>1</td>\n",
       "      <td>0</td>\n",
       "      <td>1</td>\n",
       "      <td>0</td>\n",
       "      <td>0</td>\n",
       "    </tr>\n",
       "    <tr>\n",
       "      <th>1</th>\n",
       "      <td>21</td>\n",
       "      <td>1</td>\n",
       "      <td>3</td>\n",
       "      <td>0</td>\n",
       "      <td>6.0</td>\n",
       "      <td>0</td>\n",
       "      <td>1</td>\n",
       "      <td>0</td>\n",
       "      <td>1</td>\n",
       "      <td>1</td>\n",
       "      <td>0</td>\n",
       "      <td>0</td>\n",
       "      <td>0</td>\n",
       "    </tr>\n",
       "    <tr>\n",
       "      <th>2</th>\n",
       "      <td>20</td>\n",
       "      <td>1</td>\n",
       "      <td>3</td>\n",
       "      <td>0</td>\n",
       "      <td>6.0</td>\n",
       "      <td>0</td>\n",
       "      <td>1</td>\n",
       "      <td>0</td>\n",
       "      <td>0</td>\n",
       "      <td>0</td>\n",
       "      <td>0</td>\n",
       "      <td>0</td>\n",
       "      <td>0</td>\n",
       "    </tr>\n",
       "    <tr>\n",
       "      <th>3</th>\n",
       "      <td>19</td>\n",
       "      <td>1</td>\n",
       "      <td>4</td>\n",
       "      <td>0</td>\n",
       "      <td>4.5</td>\n",
       "      <td>0</td>\n",
       "      <td>1</td>\n",
       "      <td>0</td>\n",
       "      <td>0</td>\n",
       "      <td>0</td>\n",
       "      <td>0</td>\n",
       "      <td>1</td>\n",
       "      <td>0</td>\n",
       "    </tr>\n",
       "    <tr>\n",
       "      <th>4</th>\n",
       "      <td>45</td>\n",
       "      <td>0</td>\n",
       "      <td>3</td>\n",
       "      <td>0</td>\n",
       "      <td>3.5</td>\n",
       "      <td>0</td>\n",
       "      <td>1</td>\n",
       "      <td>0</td>\n",
       "      <td>0</td>\n",
       "      <td>0</td>\n",
       "      <td>0</td>\n",
       "      <td>0</td>\n",
       "      <td>0</td>\n",
       "    </tr>\n",
       "  </tbody>\n",
       "</table>\n",
       "</div>"
      ],
      "text/plain": [
       "   Age  Gender  meals/day  physical illness  ...  Coffee  west  east  south\n",
       "0   20       1          4                 0  ...       0     1     0      0\n",
       "1   21       1          3                 0  ...       1     0     0      0\n",
       "2   20       1          3                 0  ...       0     0     0      0\n",
       "3   19       1          4                 0  ...       0     0     1      0\n",
       "4   45       0          3                 0  ...       0     0     0      0\n",
       "\n",
       "[5 rows x 13 columns]"
      ]
     },
     "execution_count": 35,
     "metadata": {},
     "output_type": "execute_result"
    }
   ],
   "source": [
    "del_columns=['sleep direction','beverage','sleep time']\n",
    "X=sleep_data.copy()\n",
    "X.drop(columns=del_columns,inplace=True)\n",
    "from sklearn.preprocessing import MinMaxScaler,StandardScaler\n",
    "X.head()"
   ]
  },
  {
   "cell_type": "code",
   "execution_count": 36,
   "metadata": {
    "colab": {
     "base_uri": "https://localhost:8080/",
     "height": 206
    },
    "id": "K09oZoVhV-AT",
    "outputId": "7e7b281a-2cdb-4d7c-bbcd-9eb1a5ba1d56"
   },
   "outputs": [
    {
     "data": {
      "text/html": [
       "<div>\n",
       "<style scoped>\n",
       "    .dataframe tbody tr th:only-of-type {\n",
       "        vertical-align: middle;\n",
       "    }\n",
       "\n",
       "    .dataframe tbody tr th {\n",
       "        vertical-align: top;\n",
       "    }\n",
       "\n",
       "    .dataframe thead th {\n",
       "        text-align: right;\n",
       "    }\n",
       "</style>\n",
       "<table border=\"1\" class=\"dataframe\">\n",
       "  <thead>\n",
       "    <tr style=\"text-align: right;\">\n",
       "      <th></th>\n",
       "      <th>Age</th>\n",
       "      <th>Gender</th>\n",
       "      <th>meals/day</th>\n",
       "      <th>physical illness</th>\n",
       "      <th>screen time</th>\n",
       "      <th>bluelight filter</th>\n",
       "      <th>sleep direction</th>\n",
       "      <th>exercise</th>\n",
       "      <th>smoke/drink</th>\n",
       "      <th>beverage</th>\n",
       "      <th>sleep time</th>\n",
       "      <th>Tea</th>\n",
       "      <th>Coffee</th>\n",
       "      <th>west</th>\n",
       "      <th>east</th>\n",
       "      <th>south</th>\n",
       "    </tr>\n",
       "  </thead>\n",
       "  <tbody>\n",
       "    <tr>\n",
       "      <th>0</th>\n",
       "      <td>20</td>\n",
       "      <td>1</td>\n",
       "      <td>4</td>\n",
       "      <td>0</td>\n",
       "      <td>6.0</td>\n",
       "      <td>0</td>\n",
       "      <td>West</td>\n",
       "      <td>1</td>\n",
       "      <td>0</td>\n",
       "      <td>Tea</td>\n",
       "      <td>8.0</td>\n",
       "      <td>1</td>\n",
       "      <td>0</td>\n",
       "      <td>1</td>\n",
       "      <td>0</td>\n",
       "      <td>0</td>\n",
       "    </tr>\n",
       "    <tr>\n",
       "      <th>1</th>\n",
       "      <td>21</td>\n",
       "      <td>1</td>\n",
       "      <td>3</td>\n",
       "      <td>0</td>\n",
       "      <td>6.0</td>\n",
       "      <td>0</td>\n",
       "      <td>North</td>\n",
       "      <td>1</td>\n",
       "      <td>0</td>\n",
       "      <td>Tea and Coffee both</td>\n",
       "      <td>8.0</td>\n",
       "      <td>1</td>\n",
       "      <td>1</td>\n",
       "      <td>0</td>\n",
       "      <td>0</td>\n",
       "      <td>0</td>\n",
       "    </tr>\n",
       "    <tr>\n",
       "      <th>2</th>\n",
       "      <td>20</td>\n",
       "      <td>1</td>\n",
       "      <td>3</td>\n",
       "      <td>0</td>\n",
       "      <td>6.0</td>\n",
       "      <td>0</td>\n",
       "      <td>North</td>\n",
       "      <td>1</td>\n",
       "      <td>0</td>\n",
       "      <td>None</td>\n",
       "      <td>7.0</td>\n",
       "      <td>0</td>\n",
       "      <td>0</td>\n",
       "      <td>0</td>\n",
       "      <td>0</td>\n",
       "      <td>0</td>\n",
       "    </tr>\n",
       "    <tr>\n",
       "      <th>3</th>\n",
       "      <td>19</td>\n",
       "      <td>1</td>\n",
       "      <td>4</td>\n",
       "      <td>0</td>\n",
       "      <td>4.5</td>\n",
       "      <td>0</td>\n",
       "      <td>East</td>\n",
       "      <td>1</td>\n",
       "      <td>0</td>\n",
       "      <td>None</td>\n",
       "      <td>8.0</td>\n",
       "      <td>0</td>\n",
       "      <td>0</td>\n",
       "      <td>0</td>\n",
       "      <td>1</td>\n",
       "      <td>0</td>\n",
       "    </tr>\n",
       "    <tr>\n",
       "      <th>4</th>\n",
       "      <td>45</td>\n",
       "      <td>0</td>\n",
       "      <td>3</td>\n",
       "      <td>0</td>\n",
       "      <td>3.5</td>\n",
       "      <td>0</td>\n",
       "      <td>North</td>\n",
       "      <td>1</td>\n",
       "      <td>0</td>\n",
       "      <td>None</td>\n",
       "      <td>6.0</td>\n",
       "      <td>0</td>\n",
       "      <td>0</td>\n",
       "      <td>0</td>\n",
       "      <td>0</td>\n",
       "      <td>0</td>\n",
       "    </tr>\n",
       "  </tbody>\n",
       "</table>\n",
       "</div>"
      ],
      "text/plain": [
       "   Age  Gender  meals/day  physical illness  ...  Coffee  west east  south\n",
       "0   20       1          4                 0  ...       0     1    0      0\n",
       "1   21       1          3                 0  ...       1     0    0      0\n",
       "2   20       1          3                 0  ...       0     0    0      0\n",
       "3   19       1          4                 0  ...       0     0    1      0\n",
       "4   45       0          3                 0  ...       0     0    0      0\n",
       "\n",
       "[5 rows x 16 columns]"
      ]
     },
     "execution_count": 36,
     "metadata": {},
     "output_type": "execute_result"
    }
   ],
   "source": [
    "sleep_data.head()"
   ]
  },
  {
   "cell_type": "code",
   "execution_count": 37,
   "metadata": {
    "colab": {
     "base_uri": "https://localhost:8080/"
    },
    "id": "r2Yr06c1W3mJ",
    "outputId": "f19da473-a869-4e88-c0bf-d682c99714b6"
   },
   "outputs": [
    {
     "data": {
      "text/plain": [
       "array([[0.07142857, 1.        , 0.75      , ..., 1.        , 0.        ,\n",
       "        0.        ],\n",
       "       [0.0952381 , 1.        , 0.5       , ..., 0.        , 0.        ,\n",
       "        0.        ],\n",
       "       [0.07142857, 1.        , 0.5       , ..., 0.        , 0.        ,\n",
       "        0.        ],\n",
       "       ...,\n",
       "       [0.0952381 , 1.        , 0.25      , ..., 0.        , 1.        ,\n",
       "        0.        ],\n",
       "       [0.16666667, 1.        , 0.5       , ..., 0.        , 1.        ,\n",
       "        0.        ],\n",
       "       [0.14285714, 0.        , 0.5       , ..., 0.        , 1.        ,\n",
       "        0.        ]])"
      ]
     },
     "execution_count": 37,
     "metadata": {},
     "output_type": "execute_result"
    }
   ],
   "source": [
    "mnmx=MinMaxScaler()\n",
    "mnmx.fit(X)\n",
    "X=mnmx.transform(X)\n",
    "X"
   ]
  },
  {
   "cell_type": "code",
   "execution_count": 38,
   "metadata": {
    "colab": {
     "base_uri": "https://localhost:8080/"
    },
    "id": "t-4pQZuadJT1",
    "outputId": "5aa294b0-1905-4e8c-e94f-233b772f5f78"
   },
   "outputs": [
    {
     "data": {
      "text/plain": [
       "0     8.0\n",
       "1     8.0\n",
       "2     7.0\n",
       "3     8.0\n",
       "4     6.0\n",
       "     ... \n",
       "74    6.0\n",
       "75    6.0\n",
       "76    7.0\n",
       "77    4.0\n",
       "79    8.0\n",
       "Name: sleep time, Length: 77, dtype: float64"
      ]
     },
     "execution_count": 38,
     "metadata": {},
     "output_type": "execute_result"
    }
   ],
   "source": [
    "Y=sleep_data['sleep time'].copy()\n",
    "sleep_data['sleep time']"
   ]
  },
  {
   "cell_type": "code",
   "execution_count": 39,
   "metadata": {
    "colab": {
     "base_uri": "https://localhost:8080/"
    },
    "id": "ID7zomHIjtPL",
    "outputId": "7abd8b42-9d2d-41fe-ba10-708a848e254d"
   },
   "outputs": [
    {
     "data": {
      "text/plain": [
       "0     1\n",
       "1     1\n",
       "2     1\n",
       "3     1\n",
       "4     0\n",
       "     ..\n",
       "74    0\n",
       "75    0\n",
       "76    1\n",
       "77    0\n",
       "79    1\n",
       "Name: sleep time, Length: 77, dtype: int64"
      ]
     },
     "execution_count": 39,
     "metadata": {},
     "output_type": "execute_result"
    }
   ],
   "source": [
    "Z=(Y>=7)\n",
    "Z=Z.astype(int)\n",
    "Z"
   ]
  },
  {
   "cell_type": "code",
   "execution_count": 40,
   "metadata": {
    "id": "B99uRM8engKU"
   },
   "outputs": [],
   "source": [
    "from sklearn.model_selection import train_test_split\n",
    "X_train,X_test,Z_train,Z_test=train_test_split(X,Z,test_size=0.3,stratify=Z,random_state=1)"
   ]
  },
  {
   "cell_type": "code",
   "execution_count": 41,
   "metadata": {
    "colab": {
     "base_uri": "https://localhost:8080/"
    },
    "id": "32xTsRWOogUD",
    "outputId": "d152b6f7-fd53-43cd-f5e4-ef424cd431cf"
   },
   "outputs": [
    {
     "name": "stdout",
     "output_type": "stream",
     "text": [
      "(53, 13) (24, 13) (53,) (24,)\n"
     ]
    }
   ],
   "source": [
    "print(X_train.shape,X_test.shape,Z_train.shape,Z_test.shape)"
   ]
  },
  {
   "cell_type": "markdown",
   "metadata": {
    "id": "j7mYjMNhHvEa"
   },
   "source": [
    "---"
   ]
  },
  {
   "cell_type": "markdown",
   "metadata": {
    "id": "-OqHp3bLHxn5"
   },
   "source": [
    "---"
   ]
  },
  {
   "cell_type": "markdown",
   "metadata": {
    "id": "TdsjWumYHhRz"
   },
   "source": [
    "#Logistic Regression of all the Independent Variables with Sleep Time"
   ]
  },
  {
   "cell_type": "code",
   "execution_count": 42,
   "metadata": {
    "colab": {
     "base_uri": "https://localhost:8080/"
    },
    "id": "bwjGCvhMYnz9",
    "outputId": "230a272b-e16d-4f1d-d0f6-9b971d36e846"
   },
   "outputs": [
    {
     "data": {
      "text/plain": [
       "LogisticRegression()"
      ]
     },
     "execution_count": 42,
     "metadata": {},
     "output_type": "execute_result"
    }
   ],
   "source": [
    "from sklearn.linear_model import LogisticRegression\n",
    "lr=LogisticRegression()\n",
    "lr.fit(X_train,Z_train)"
   ]
  },
  {
   "cell_type": "code",
   "execution_count": 43,
   "metadata": {
    "colab": {
     "base_uri": "https://localhost:8080/"
    },
    "id": "g_025rDycEBJ",
    "outputId": "12b5279b-7dec-4c18-a0a2-40d610681201"
   },
   "outputs": [
    {
     "name": "stdout",
     "output_type": "stream",
     "text": [
      "0.7735849056603774\n"
     ]
    }
   ],
   "source": [
    "Z_train_predict=lr.predict(X_train)\n",
    "from sklearn.metrics import accuracy_score\n",
    "print(accuracy_score(Z_train_predict,Z_train))"
   ]
  },
  {
   "cell_type": "code",
   "execution_count": 44,
   "metadata": {
    "colab": {
     "base_uri": "https://localhost:8080/"
    },
    "id": "cAugN3kKkwm6",
    "outputId": "783d9134-d787-43c6-ae90-b147ce399e54"
   },
   "outputs": [
    {
     "data": {
      "text/plain": [
       "array([[ 6,  1],\n",
       "       [11, 35]])"
      ]
     },
     "execution_count": 44,
     "metadata": {},
     "output_type": "execute_result"
    }
   ],
   "source": [
    "from sklearn.metrics import confusion_matrix\n",
    "confusion_matrix(Z_train_predict,Z_train)"
   ]
  },
  {
   "cell_type": "code",
   "execution_count": 45,
   "metadata": {
    "colab": {
     "base_uri": "https://localhost:8080/"
    },
    "id": "id2JHk1GpJXg",
    "outputId": "b50498ee-6467-4550-9890-a9d1f2483958"
   },
   "outputs": [
    {
     "name": "stdout",
     "output_type": "stream",
     "text": [
      "0.75\n"
     ]
    }
   ],
   "source": [
    "Z_test_predict=lr.predict(X_test)\n",
    "print(accuracy_score(Z_test_predict,Z_test))"
   ]
  },
  {
   "cell_type": "code",
   "execution_count": 46,
   "metadata": {
    "colab": {
     "base_uri": "https://localhost:8080/"
    },
    "id": "RxFoX201pX3m",
    "outputId": "530a726f-e5b6-4edb-9bd6-df761fd34a99"
   },
   "outputs": [
    {
     "data": {
      "text/plain": [
       "array([[ 1,  0],\n",
       "       [ 6, 17]])"
      ]
     },
     "execution_count": 46,
     "metadata": {},
     "output_type": "execute_result"
    }
   ],
   "source": [
    "confusion_matrix(Z_test_predict,Z_test)"
   ]
  },
  {
   "cell_type": "code",
   "execution_count": 47,
   "metadata": {
    "colab": {
     "base_uri": "https://localhost:8080/"
    },
    "id": "TH3LjBqBk_Wi",
    "outputId": "02beed1b-2801-43a4-99db-3c484dc444bf"
   },
   "outputs": [
    {
     "name": "stdout",
     "output_type": "stream",
     "text": [
      "[0.64520485] [[-0.78272093  0.50537892 -0.20573619 -0.19331107  0.33393094  0.57150422\n",
      "  -0.2131634   0.2722739  -0.14830751 -0.89539115 -0.1173272  -0.09988427\n",
      "   0.86594254]]\n"
     ]
    }
   ],
   "source": [
    "print(lr.intercept_,lr.coef_)"
   ]
  },
  {
   "cell_type": "code",
   "execution_count": 48,
   "metadata": {
    "colab": {
     "base_uri": "https://localhost:8080/"
    },
    "id": "-SE6MO6PlfZ1",
    "outputId": "77b4d5fd-9273-477d-da2f-e84f6d296c25"
   },
   "outputs": [
    {
     "name": "stdout",
     "output_type": "stream",
     "text": [
      "<class 'pandas.core.frame.DataFrame'>\n",
      "Int64Index: 77 entries, 0 to 79\n",
      "Data columns (total 16 columns):\n",
      " #   Column            Non-Null Count  Dtype  \n",
      "---  ------            --------------  -----  \n",
      " 0   Age               77 non-null     int64  \n",
      " 1   Gender            77 non-null     int64  \n",
      " 2   meals/day         77 non-null     int64  \n",
      " 3   physical illness  77 non-null     int64  \n",
      " 4   screen time       77 non-null     float64\n",
      " 5   bluelight filter  77 non-null     int64  \n",
      " 6   sleep direction   77 non-null     object \n",
      " 7   exercise          77 non-null     int64  \n",
      " 8   smoke/drink       77 non-null     int64  \n",
      " 9   beverage          77 non-null     object \n",
      " 10  sleep time        77 non-null     float64\n",
      " 11  Tea               77 non-null     int64  \n",
      " 12  Coffee            77 non-null     int64  \n",
      " 13  west              77 non-null     int64  \n",
      " 14  east              77 non-null     int64  \n",
      " 15  south             77 non-null     int64  \n",
      "dtypes: float64(2), int64(12), object(2)\n",
      "memory usage: 10.2+ KB\n"
     ]
    }
   ],
   "source": [
    "sleep_data.info()"
   ]
  },
  {
   "cell_type": "markdown",
   "metadata": {
    "id": "-8Ewq808mBPf"
   },
   "source": [
    "---"
   ]
  },
  {
   "cell_type": "markdown",
   "metadata": {
    "id": "osS4KWY420aw"
   },
   "source": [
    "---"
   ]
  },
  {
   "cell_type": "markdown",
   "metadata": {
    "id": "1C5vbmXE2TWP"
   },
   "source": [
    "#Checking the Specific Relation Between Exercise and Sleep Duration"
   ]
  },
  {
   "cell_type": "code",
   "execution_count": 49,
   "metadata": {
    "colab": {
     "base_uri": "https://localhost:8080/",
     "height": 423
    },
    "id": "xpqdpkZPtc6f",
    "outputId": "d05d2da7-c491-4394-adce-e6df6dfecf85"
   },
   "outputs": [
    {
     "data": {
      "text/html": [
       "<div>\n",
       "<style scoped>\n",
       "    .dataframe tbody tr th:only-of-type {\n",
       "        vertical-align: middle;\n",
       "    }\n",
       "\n",
       "    .dataframe tbody tr th {\n",
       "        vertical-align: top;\n",
       "    }\n",
       "\n",
       "    .dataframe thead th {\n",
       "        text-align: right;\n",
       "    }\n",
       "</style>\n",
       "<table border=\"1\" class=\"dataframe\">\n",
       "  <thead>\n",
       "    <tr style=\"text-align: right;\">\n",
       "      <th></th>\n",
       "      <th>Age</th>\n",
       "      <th>Gender</th>\n",
       "      <th>exercise</th>\n",
       "    </tr>\n",
       "  </thead>\n",
       "  <tbody>\n",
       "    <tr>\n",
       "      <th>0</th>\n",
       "      <td>20</td>\n",
       "      <td>1</td>\n",
       "      <td>1</td>\n",
       "    </tr>\n",
       "    <tr>\n",
       "      <th>1</th>\n",
       "      <td>21</td>\n",
       "      <td>1</td>\n",
       "      <td>1</td>\n",
       "    </tr>\n",
       "    <tr>\n",
       "      <th>2</th>\n",
       "      <td>20</td>\n",
       "      <td>1</td>\n",
       "      <td>1</td>\n",
       "    </tr>\n",
       "    <tr>\n",
       "      <th>3</th>\n",
       "      <td>19</td>\n",
       "      <td>1</td>\n",
       "      <td>1</td>\n",
       "    </tr>\n",
       "    <tr>\n",
       "      <th>4</th>\n",
       "      <td>45</td>\n",
       "      <td>0</td>\n",
       "      <td>1</td>\n",
       "    </tr>\n",
       "    <tr>\n",
       "      <th>...</th>\n",
       "      <td>...</td>\n",
       "      <td>...</td>\n",
       "      <td>...</td>\n",
       "    </tr>\n",
       "    <tr>\n",
       "      <th>74</th>\n",
       "      <td>22</td>\n",
       "      <td>0</td>\n",
       "      <td>1</td>\n",
       "    </tr>\n",
       "    <tr>\n",
       "      <th>75</th>\n",
       "      <td>22</td>\n",
       "      <td>1</td>\n",
       "      <td>1</td>\n",
       "    </tr>\n",
       "    <tr>\n",
       "      <th>76</th>\n",
       "      <td>21</td>\n",
       "      <td>1</td>\n",
       "      <td>1</td>\n",
       "    </tr>\n",
       "    <tr>\n",
       "      <th>77</th>\n",
       "      <td>24</td>\n",
       "      <td>1</td>\n",
       "      <td>1</td>\n",
       "    </tr>\n",
       "    <tr>\n",
       "      <th>79</th>\n",
       "      <td>23</td>\n",
       "      <td>0</td>\n",
       "      <td>1</td>\n",
       "    </tr>\n",
       "  </tbody>\n",
       "</table>\n",
       "<p>77 rows × 3 columns</p>\n",
       "</div>"
      ],
      "text/plain": [
       "    Age  Gender  exercise\n",
       "0    20       1         1\n",
       "1    21       1         1\n",
       "2    20       1         1\n",
       "3    19       1         1\n",
       "4    45       0         1\n",
       "..  ...     ...       ...\n",
       "74   22       0         1\n",
       "75   22       1         1\n",
       "76   21       1         1\n",
       "77   24       1         1\n",
       "79   23       0         1\n",
       "\n",
       "[77 rows x 3 columns]"
      ]
     },
     "execution_count": 49,
     "metadata": {},
     "output_type": "execute_result"
    }
   ],
   "source": [
    "Q= sleep_data.loc[:,['Age','Gender','exercise']]\n",
    "Qnew = Q.copy()\n",
    "Qnew"
   ]
  },
  {
   "cell_type": "code",
   "execution_count": 50,
   "metadata": {
    "colab": {
     "base_uri": "https://localhost:8080/"
    },
    "id": "ccNmgnMHuAJ0",
    "outputId": "9c5b3853-0286-4958-fef0-291758481c64"
   },
   "outputs": [
    {
     "data": {
      "text/plain": [
       "array([[0.07142857, 1.        , 1.        ],\n",
       "       [0.0952381 , 1.        , 1.        ],\n",
       "       [0.07142857, 1.        , 1.        ],\n",
       "       [0.04761905, 1.        , 1.        ],\n",
       "       [0.66666667, 0.        , 1.        ],\n",
       "       [0.07142857, 1.        , 1.        ],\n",
       "       [0.        , 1.        , 0.        ],\n",
       "       [0.07142857, 0.        , 1.        ],\n",
       "       [0.07142857, 1.        , 1.        ],\n",
       "       [0.0952381 , 1.        , 1.        ],\n",
       "       [0.07142857, 0.        , 1.        ],\n",
       "       [0.04761905, 1.        , 1.        ],\n",
       "       [0.07142857, 1.        , 1.        ],\n",
       "       [0.0952381 , 1.        , 0.        ],\n",
       "       [0.0952381 , 1.        , 1.        ],\n",
       "       [0.04761905, 1.        , 1.        ],\n",
       "       [0.04761905, 1.        , 1.        ],\n",
       "       [0.21428571, 1.        , 1.        ],\n",
       "       [0.0952381 , 1.        , 0.        ],\n",
       "       [0.71428571, 0.        , 0.        ],\n",
       "       [0.97619048, 0.        , 0.        ],\n",
       "       [0.02380952, 1.        , 1.        ],\n",
       "       [0.07142857, 1.        , 1.        ],\n",
       "       [0.0952381 , 1.        , 0.        ],\n",
       "       [0.        , 0.        , 0.        ],\n",
       "       [0.19047619, 1.        , 1.        ],\n",
       "       [0.30952381, 1.        , 1.        ],\n",
       "       [0.07142857, 1.        , 1.        ],\n",
       "       [0.0952381 , 1.        , 1.        ],\n",
       "       [0.0952381 , 1.        , 1.        ],\n",
       "       [0.26190476, 1.        , 0.        ],\n",
       "       [0.33333333, 1.        , 0.        ],\n",
       "       [0.07142857, 1.        , 1.        ],\n",
       "       [0.07142857, 1.        , 1.        ],\n",
       "       [0.11904762, 0.        , 0.        ],\n",
       "       [0.14285714, 1.        , 0.        ],\n",
       "       [0.14285714, 0.        , 1.        ],\n",
       "       [0.11904762, 1.        , 1.        ],\n",
       "       [0.11904762, 1.        , 1.        ],\n",
       "       [0.11904762, 1.        , 1.        ],\n",
       "       [0.16666667, 0.        , 1.        ],\n",
       "       [0.16666667, 1.        , 1.        ],\n",
       "       [0.14285714, 0.        , 1.        ],\n",
       "       [0.26190476, 0.        , 1.        ],\n",
       "       [1.        , 1.        , 0.        ],\n",
       "       [0.14285714, 0.        , 1.        ],\n",
       "       [0.14285714, 1.        , 1.        ],\n",
       "       [0.14285714, 0.        , 1.        ],\n",
       "       [0.16666667, 1.        , 0.        ],\n",
       "       [0.16666667, 1.        , 1.        ],\n",
       "       [0.14285714, 1.        , 1.        ],\n",
       "       [0.11904762, 1.        , 1.        ],\n",
       "       [0.14285714, 1.        , 0.        ],\n",
       "       [0.52380952, 0.        , 0.        ],\n",
       "       [0.14285714, 0.        , 1.        ],\n",
       "       [0.19047619, 0.        , 1.        ],\n",
       "       [0.14285714, 1.        , 1.        ],\n",
       "       [0.11904762, 1.        , 1.        ],\n",
       "       [0.19047619, 0.        , 1.        ],\n",
       "       [0.78571429, 1.        , 1.        ],\n",
       "       [0.14285714, 0.        , 0.        ],\n",
       "       [0.07142857, 1.        , 0.        ],\n",
       "       [0.14285714, 0.        , 0.        ],\n",
       "       [0.14285714, 0.        , 1.        ],\n",
       "       [0.14285714, 0.        , 1.        ],\n",
       "       [0.11904762, 1.        , 1.        ],\n",
       "       [0.11904762, 1.        , 1.        ],\n",
       "       [0.0952381 , 1.        , 0.        ],\n",
       "       [0.16666667, 1.        , 1.        ],\n",
       "       [0.19047619, 1.        , 1.        ],\n",
       "       [0.11904762, 1.        , 0.        ],\n",
       "       [0.14285714, 0.        , 1.        ],\n",
       "       [0.11904762, 0.        , 1.        ],\n",
       "       [0.11904762, 1.        , 1.        ],\n",
       "       [0.0952381 , 1.        , 1.        ],\n",
       "       [0.16666667, 1.        , 1.        ],\n",
       "       [0.14285714, 0.        , 1.        ]])"
      ]
     },
     "execution_count": 50,
     "metadata": {},
     "output_type": "execute_result"
    }
   ],
   "source": [
    "mnmx=MinMaxScaler()\n",
    "mnmx.fit(Qnew)\n",
    "Qnew=mnmx.transform(Qnew)\n",
    "Qnew"
   ]
  },
  {
   "cell_type": "code",
   "execution_count": 51,
   "metadata": {
    "colab": {
     "base_uri": "https://localhost:8080/"
    },
    "id": "8wRCXqerri_G",
    "outputId": "2fe060d3-f788-42be-fd9c-989047df4094"
   },
   "outputs": [
    {
     "name": "stdout",
     "output_type": "stream",
     "text": [
      "(53, 3) (24, 3) (53,) (24,)\n"
     ]
    }
   ],
   "source": [
    "Q_train,Q_test,Z1_train,Z1_test=train_test_split(Qnew,Z,test_size=0.3,stratify=Z,random_state=1)\n",
    "print(Q_train.shape,Q_test.shape,Z1_train.shape,Z1_test.shape)"
   ]
  },
  {
   "cell_type": "code",
   "execution_count": 52,
   "metadata": {
    "colab": {
     "base_uri": "https://localhost:8080/"
    },
    "id": "akLnZVb_wkAt",
    "outputId": "7b01ac6e-ab85-4786-9ba1-071886812916"
   },
   "outputs": [
    {
     "data": {
      "text/plain": [
       "LogisticRegression()"
      ]
     },
     "execution_count": 52,
     "metadata": {},
     "output_type": "execute_result"
    }
   ],
   "source": [
    "lr1=LogisticRegression()\n",
    "lr1.fit(Q_train,Z1_train)"
   ]
  },
  {
   "cell_type": "code",
   "execution_count": 53,
   "metadata": {
    "id": "0yNnQ65Xww1-"
   },
   "outputs": [],
   "source": [
    "Z1_train_predict = lr1.predict(Q_train)"
   ]
  },
  {
   "cell_type": "code",
   "execution_count": 54,
   "metadata": {
    "colab": {
     "base_uri": "https://localhost:8080/"
    },
    "id": "zlzDDCUQw2ta",
    "outputId": "c646febd-fe90-437d-b4dc-d5151f4d8083"
   },
   "outputs": [
    {
     "data": {
      "text/plain": [
       "0.6792452830188679"
      ]
     },
     "execution_count": 54,
     "metadata": {},
     "output_type": "execute_result"
    }
   ],
   "source": [
    "accuracy_score(Z1_train_predict, Z1_train)"
   ]
  },
  {
   "cell_type": "code",
   "execution_count": 55,
   "metadata": {
    "colab": {
     "base_uri": "https://localhost:8080/"
    },
    "id": "LbO9CFMus1WP",
    "outputId": "b0cbc685-843f-40a8-8b0f-22a5a6ff5e4c"
   },
   "outputs": [
    {
     "data": {
      "text/plain": [
       "0.7083333333333334"
      ]
     },
     "execution_count": 55,
     "metadata": {},
     "output_type": "execute_result"
    }
   ],
   "source": [
    "Z1_test_predict=lr1.predict(Q_test)\n",
    "accuracy_score(Z1_test_predict,Z1_test)"
   ]
  },
  {
   "cell_type": "code",
   "execution_count": 56,
   "metadata": {
    "colab": {
     "base_uri": "https://localhost:8080/"
    },
    "id": "8XQKyIAmxAxq",
    "outputId": "80acc2b1-7a8a-430e-db8e-e83b1fa42c22"
   },
   "outputs": [
    {
     "data": {
      "text/plain": [
       "array([[-1.02305313,  0.52929873, -0.25059802]])"
      ]
     },
     "execution_count": 56,
     "metadata": {},
     "output_type": "execute_result"
    }
   ],
   "source": [
    "lr1.coef_"
   ]
  },
  {
   "cell_type": "code",
   "execution_count": 57,
   "metadata": {
    "colab": {
     "base_uri": "https://localhost:8080/"
    },
    "id": "vW8wjyMxxGmO",
    "outputId": "e17dd18a-1c94-41b0-e443-bbb797f646e9"
   },
   "outputs": [
    {
     "data": {
      "text/plain": [
       "array([0.84201083, 0.76159633, 0.58694891, 0.77208189, 0.676395  ,\n",
       "       0.83620788, 0.50001897, 0.72554516, 0.69939038, 0.81799818,\n",
       "       0.33944453, 0.51255729, 0.58364344, 0.54849216, 0.72688248,\n",
       "       0.66269417, 0.78189037, 0.77655707, 0.71320792, 0.68901231,\n",
       "       0.55339039, 0.81967162, 0.83893681, 0.81900928])"
      ]
     },
     "execution_count": 57,
     "metadata": {},
     "output_type": "execute_result"
    }
   ],
   "source": [
    "lr.predict_proba(X_test)[:,1]"
   ]
  },
  {
   "cell_type": "code",
   "execution_count": 58,
   "metadata": {
    "colab": {
     "base_uri": "https://localhost:8080/"
    },
    "id": "3gl2pst1HFcP",
    "outputId": "3adafda4-67ea-4568-99d7-7ac2272b885c"
   },
   "outputs": [
    {
     "data": {
      "text/plain": [
       "array([0.82859451, 0.3757023 , 0.74465775, 0.51084818, 0.71266413,\n",
       "       0.32211201, 0.30109903, 0.56916801, 0.39206979, 0.7211946 ,\n",
       "       0.52749047, 0.77656262, 0.82808846, 0.75260878, 0.64607972,\n",
       "       0.70291548, 0.52464575, 0.48349296, 0.7662409 , 0.83622637,\n",
       "       0.84168722, 0.74449986, 0.75655164, 0.68470888, 0.80509438,\n",
       "       0.83208785, 0.6335256 , 0.51269579, 0.66798115, 0.71036978,\n",
       "       0.58049741, 0.80711799, 0.82552883, 0.8624367 , 0.8403679 ,\n",
       "       0.70864668, 0.88184957, 0.42613121, 0.50237198, 0.70218841,\n",
       "       0.49737591, 0.5605454 , 0.75260878, 0.84185318, 0.68643985,\n",
       "       0.72157891, 0.70570185, 0.72517941, 0.76524228, 0.8369891 ,\n",
       "       0.56247005, 0.89917566, 0.7960185 ])"
      ]
     },
     "execution_count": 58,
     "metadata": {},
     "output_type": "execute_result"
    }
   ],
   "source": [
    "lr.predict_proba(X_train)[:,1]"
   ]
  },
  {
   "cell_type": "code",
   "execution_count": 59,
   "metadata": {
    "colab": {
     "base_uri": "https://localhost:8080/"
    },
    "id": "NdjpI6B2HFxQ",
    "outputId": "170db2f6-8bd1-48ea-865e-9aefa09e9419"
   },
   "outputs": [
    {
     "data": {
      "text/plain": [
       "array([0.76283488, 0.44681249, 0.65452427, 0.71951264, 0.71457058,\n",
       "       0.59589465, 0.58411071, 0.71951264, 0.56199233, 0.7715355 ,\n",
       "       0.59589465, 0.74010089, 0.76721351, 0.72923845, 0.66001133,\n",
       "       0.72923845, 0.72440212, 0.67856352, 0.6017463 , 0.7715355 ,\n",
       "       0.7715355 , 0.70453137, 0.75839984, 0.71951264, 0.72923845,\n",
       "       0.7715355 , 0.5662571 , 0.57233452, 0.72923845, 0.72440212,\n",
       "       0.7758007 , 0.58411071, 0.68678614, 0.76283488, 0.7095766 ,\n",
       "       0.73402107, 0.71951264, 0.51359278, 0.71457058, 0.72923845,\n",
       "       0.46319253, 0.6133613 , 0.72923845, 0.72440212, 0.59589465,\n",
       "       0.69943562, 0.59589465, 0.6133613 , 0.70453137, 0.72440212,\n",
       "       0.59589465, 0.71951264, 0.71457058])"
      ]
     },
     "execution_count": 59,
     "metadata": {},
     "output_type": "execute_result"
    }
   ],
   "source": [
    "lr1.predict_proba(Q_train)[:,1]"
   ]
  },
  {
   "cell_type": "code",
   "execution_count": 60,
   "metadata": {
    "colab": {
     "base_uri": "https://localhost:8080/"
    },
    "id": "ka5o9XjWHGA-",
    "outputId": "1dc9905d-6c14-4844-e069-767970bad410"
   },
   "outputs": [
    {
     "data": {
      "text/plain": [
       "array([0.73402107, 0.78825442, 0.59589465, 0.71951264, 0.72923845,\n",
       "       0.73874947, 0.5900156 , 0.7095766 , 0.59589465, 0.72923845,\n",
       "       0.59589465, 0.72440212, 0.65452427, 0.59589465, 0.7258002 ,\n",
       "       0.71951264, 0.71951264, 0.7095766 , 0.73402107, 0.72923845,\n",
       "       0.56463875, 0.72440212, 0.73402107, 0.7095766 ])"
      ]
     },
     "execution_count": 60,
     "metadata": {},
     "output_type": "execute_result"
    }
   ],
   "source": [
    "lr1.predict_proba(Q_test)[:,1]"
   ]
  },
  {
   "cell_type": "markdown",
   "metadata": {
    "id": "gjQa6c1x4X3c"
   },
   "source": [
    "---"
   ]
  },
  {
   "cell_type": "markdown",
   "metadata": {
    "id": "9J_VQsBU4bak"
   },
   "source": [
    "---"
   ]
  },
  {
   "cell_type": "markdown",
   "metadata": {
    "id": "pNhUzyAx4cVy"
   },
   "source": [
    "#Checking the Specific Relation Between meals/day and Sleep Duration"
   ]
  },
  {
   "cell_type": "code",
   "execution_count": 61,
   "metadata": {
    "colab": {
     "base_uri": "https://localhost:8080/",
     "height": 423
    },
    "id": "owcEKWrctzs2",
    "outputId": "69f7dd57-92bb-433c-866a-c910b85e746e"
   },
   "outputs": [
    {
     "data": {
      "text/html": [
       "<div>\n",
       "<style scoped>\n",
       "    .dataframe tbody tr th:only-of-type {\n",
       "        vertical-align: middle;\n",
       "    }\n",
       "\n",
       "    .dataframe tbody tr th {\n",
       "        vertical-align: top;\n",
       "    }\n",
       "\n",
       "    .dataframe thead th {\n",
       "        text-align: right;\n",
       "    }\n",
       "</style>\n",
       "<table border=\"1\" class=\"dataframe\">\n",
       "  <thead>\n",
       "    <tr style=\"text-align: right;\">\n",
       "      <th></th>\n",
       "      <th>Age</th>\n",
       "      <th>Gender</th>\n",
       "      <th>meals/day</th>\n",
       "    </tr>\n",
       "  </thead>\n",
       "  <tbody>\n",
       "    <tr>\n",
       "      <th>0</th>\n",
       "      <td>20</td>\n",
       "      <td>1</td>\n",
       "      <td>4</td>\n",
       "    </tr>\n",
       "    <tr>\n",
       "      <th>1</th>\n",
       "      <td>21</td>\n",
       "      <td>1</td>\n",
       "      <td>3</td>\n",
       "    </tr>\n",
       "    <tr>\n",
       "      <th>2</th>\n",
       "      <td>20</td>\n",
       "      <td>1</td>\n",
       "      <td>3</td>\n",
       "    </tr>\n",
       "    <tr>\n",
       "      <th>3</th>\n",
       "      <td>19</td>\n",
       "      <td>1</td>\n",
       "      <td>4</td>\n",
       "    </tr>\n",
       "    <tr>\n",
       "      <th>4</th>\n",
       "      <td>45</td>\n",
       "      <td>0</td>\n",
       "      <td>3</td>\n",
       "    </tr>\n",
       "    <tr>\n",
       "      <th>...</th>\n",
       "      <td>...</td>\n",
       "      <td>...</td>\n",
       "      <td>...</td>\n",
       "    </tr>\n",
       "    <tr>\n",
       "      <th>74</th>\n",
       "      <td>22</td>\n",
       "      <td>0</td>\n",
       "      <td>2</td>\n",
       "    </tr>\n",
       "    <tr>\n",
       "      <th>75</th>\n",
       "      <td>22</td>\n",
       "      <td>1</td>\n",
       "      <td>3</td>\n",
       "    </tr>\n",
       "    <tr>\n",
       "      <th>76</th>\n",
       "      <td>21</td>\n",
       "      <td>1</td>\n",
       "      <td>2</td>\n",
       "    </tr>\n",
       "    <tr>\n",
       "      <th>77</th>\n",
       "      <td>24</td>\n",
       "      <td>1</td>\n",
       "      <td>3</td>\n",
       "    </tr>\n",
       "    <tr>\n",
       "      <th>79</th>\n",
       "      <td>23</td>\n",
       "      <td>0</td>\n",
       "      <td>3</td>\n",
       "    </tr>\n",
       "  </tbody>\n",
       "</table>\n",
       "<p>77 rows × 3 columns</p>\n",
       "</div>"
      ],
      "text/plain": [
       "    Age  Gender  meals/day\n",
       "0    20       1          4\n",
       "1    21       1          3\n",
       "2    20       1          3\n",
       "3    19       1          4\n",
       "4    45       0          3\n",
       "..  ...     ...        ...\n",
       "74   22       0          2\n",
       "75   22       1          3\n",
       "76   21       1          2\n",
       "77   24       1          3\n",
       "79   23       0          3\n",
       "\n",
       "[77 rows x 3 columns]"
      ]
     },
     "execution_count": 61,
     "metadata": {},
     "output_type": "execute_result"
    }
   ],
   "source": [
    "R= sleep_data.loc[:,['Age','Gender','meals/day']]\n",
    "Rnew = R.copy()\n",
    "Rnew"
   ]
  },
  {
   "cell_type": "code",
   "execution_count": 62,
   "metadata": {
    "colab": {
     "base_uri": "https://localhost:8080/"
    },
    "id": "y6NHr7Hi5AYD",
    "outputId": "d8bd8233-4c7b-4913-8642-1245b47ce585"
   },
   "outputs": [
    {
     "data": {
      "text/plain": [
       "array([[0.07142857, 1.        , 0.75      ],\n",
       "       [0.0952381 , 1.        , 0.5       ],\n",
       "       [0.07142857, 1.        , 0.5       ],\n",
       "       [0.04761905, 1.        , 0.75      ],\n",
       "       [0.66666667, 0.        , 0.5       ],\n",
       "       [0.07142857, 1.        , 1.        ],\n",
       "       [0.        , 1.        , 1.        ],\n",
       "       [0.07142857, 0.        , 0.5       ],\n",
       "       [0.07142857, 1.        , 0.75      ],\n",
       "       [0.0952381 , 1.        , 0.75      ],\n",
       "       [0.07142857, 0.        , 0.75      ],\n",
       "       [0.04761905, 1.        , 0.5       ],\n",
       "       [0.07142857, 1.        , 0.75      ],\n",
       "       [0.0952381 , 1.        , 0.5       ],\n",
       "       [0.0952381 , 1.        , 0.5       ],\n",
       "       [0.04761905, 1.        , 0.75      ],\n",
       "       [0.04761905, 1.        , 1.        ],\n",
       "       [0.21428571, 1.        , 0.25      ],\n",
       "       [0.0952381 , 1.        , 0.5       ],\n",
       "       [0.71428571, 0.        , 0.5       ],\n",
       "       [0.97619048, 0.        , 0.25      ],\n",
       "       [0.02380952, 1.        , 0.5       ],\n",
       "       [0.07142857, 1.        , 0.5       ],\n",
       "       [0.0952381 , 1.        , 0.25      ],\n",
       "       [0.        , 0.        , 0.25      ],\n",
       "       [0.19047619, 1.        , 0.5       ],\n",
       "       [0.30952381, 1.        , 0.25      ],\n",
       "       [0.07142857, 1.        , 0.5       ],\n",
       "       [0.0952381 , 1.        , 0.5       ],\n",
       "       [0.0952381 , 1.        , 0.5       ],\n",
       "       [0.26190476, 1.        , 0.75      ],\n",
       "       [0.33333333, 1.        , 0.25      ],\n",
       "       [0.07142857, 1.        , 0.75      ],\n",
       "       [0.07142857, 1.        , 0.5       ],\n",
       "       [0.11904762, 0.        , 0.5       ],\n",
       "       [0.14285714, 1.        , 0.5       ],\n",
       "       [0.14285714, 0.        , 0.25      ],\n",
       "       [0.11904762, 1.        , 0.5       ],\n",
       "       [0.11904762, 1.        , 0.25      ],\n",
       "       [0.11904762, 1.        , 0.75      ],\n",
       "       [0.16666667, 0.        , 0.5       ],\n",
       "       [0.16666667, 1.        , 0.75      ],\n",
       "       [0.14285714, 0.        , 0.5       ],\n",
       "       [0.26190476, 0.        , 0.5       ],\n",
       "       [1.        , 1.        , 0.25      ],\n",
       "       [0.14285714, 0.        , 0.5       ],\n",
       "       [0.14285714, 1.        , 0.5       ],\n",
       "       [0.14285714, 0.        , 0.25      ],\n",
       "       [0.16666667, 1.        , 0.5       ],\n",
       "       [0.16666667, 1.        , 0.25      ],\n",
       "       [0.14285714, 1.        , 0.5       ],\n",
       "       [0.11904762, 1.        , 0.25      ],\n",
       "       [0.14285714, 1.        , 0.5       ],\n",
       "       [0.52380952, 0.        , 1.        ],\n",
       "       [0.14285714, 0.        , 0.5       ],\n",
       "       [0.19047619, 0.        , 0.25      ],\n",
       "       [0.14285714, 1.        , 0.5       ],\n",
       "       [0.11904762, 1.        , 0.75      ],\n",
       "       [0.19047619, 0.        , 0.5       ],\n",
       "       [0.78571429, 1.        , 0.25      ],\n",
       "       [0.14285714, 0.        , 0.5       ],\n",
       "       [0.07142857, 1.        , 0.        ],\n",
       "       [0.14285714, 0.        , 0.25      ],\n",
       "       [0.14285714, 0.        , 0.5       ],\n",
       "       [0.14285714, 0.        , 0.5       ],\n",
       "       [0.11904762, 1.        , 0.        ],\n",
       "       [0.11904762, 1.        , 0.25      ],\n",
       "       [0.0952381 , 1.        , 0.        ],\n",
       "       [0.16666667, 1.        , 0.25      ],\n",
       "       [0.19047619, 1.        , 0.25      ],\n",
       "       [0.11904762, 1.        , 0.25      ],\n",
       "       [0.14285714, 0.        , 0.5       ],\n",
       "       [0.11904762, 0.        , 0.25      ],\n",
       "       [0.11904762, 1.        , 0.5       ],\n",
       "       [0.0952381 , 1.        , 0.25      ],\n",
       "       [0.16666667, 1.        , 0.5       ],\n",
       "       [0.14285714, 0.        , 0.5       ]])"
      ]
     },
     "execution_count": 62,
     "metadata": {},
     "output_type": "execute_result"
    }
   ],
   "source": [
    "mnmx=MinMaxScaler()\n",
    "mnmx.fit(Rnew)\n",
    "Rnew=mnmx.transform(Rnew)\n",
    "Rnew"
   ]
  },
  {
   "cell_type": "code",
   "execution_count": 63,
   "metadata": {
    "colab": {
     "base_uri": "https://localhost:8080/"
    },
    "id": "9l2c2FMI5sT0",
    "outputId": "025cf89a-d0e2-4772-87c6-2f9578008d22"
   },
   "outputs": [
    {
     "name": "stdout",
     "output_type": "stream",
     "text": [
      "(53, 3) (24, 3) (53,) (24,)\n"
     ]
    }
   ],
   "source": [
    "R_train,R_test,Z2_train,Z2_test=train_test_split(Rnew,Z,test_size=0.3,stratify=Z,random_state=1)\n",
    "print(R_train.shape,R_test.shape,Z2_train.shape,Z2_test.shape)"
   ]
  },
  {
   "cell_type": "code",
   "execution_count": 64,
   "metadata": {
    "colab": {
     "base_uri": "https://localhost:8080/"
    },
    "id": "y9jhskJW6e8Z",
    "outputId": "10450703-b865-47a0-b0fc-820bd121fbab"
   },
   "outputs": [
    {
     "data": {
      "text/plain": [
       "LogisticRegression()"
      ]
     },
     "execution_count": 64,
     "metadata": {},
     "output_type": "execute_result"
    }
   ],
   "source": [
    "lr2=LogisticRegression()\n",
    "lr2.fit(R_train,Z2_train)"
   ]
  },
  {
   "cell_type": "code",
   "execution_count": 65,
   "metadata": {
    "colab": {
     "base_uri": "https://localhost:8080/"
    },
    "id": "wB66Fv956pkY",
    "outputId": "eedba81f-1ac2-43ea-8665-7cfb8dae9876"
   },
   "outputs": [
    {
     "data": {
      "text/plain": [
       "0.7169811320754716"
      ]
     },
     "execution_count": 65,
     "metadata": {},
     "output_type": "execute_result"
    }
   ],
   "source": [
    "Z2_train_predict = lr2.predict(R_train)\n",
    "accuracy_score(Z2_train_predict, Z2_train)"
   ]
  },
  {
   "cell_type": "code",
   "execution_count": 66,
   "metadata": {
    "colab": {
     "base_uri": "https://localhost:8080/"
    },
    "id": "g7lTWV4_7FTa",
    "outputId": "b9dca2f8-2d45-4f18-c166-6a66d332e0b4"
   },
   "outputs": [
    {
     "data": {
      "text/plain": [
       "0.7083333333333334"
      ]
     },
     "execution_count": 66,
     "metadata": {},
     "output_type": "execute_result"
    }
   ],
   "source": [
    "Z2_test_predict = lr2.predict(R_test)\n",
    "accuracy_score(Z2_test_predict, Z2_test)"
   ]
  },
  {
   "cell_type": "code",
   "execution_count": 67,
   "metadata": {
    "colab": {
     "base_uri": "https://localhost:8080/"
    },
    "id": "Z4oCIYWs7gWJ",
    "outputId": "8d0df865-b04c-4035-e2b6-9266c357107b"
   },
   "outputs": [
    {
     "data": {
      "text/plain": [
       "array([[-0.96811474,  0.52272526, -0.25215934]])"
      ]
     },
     "execution_count": 67,
     "metadata": {},
     "output_type": "execute_result"
    }
   ],
   "source": [
    "lr2.coef_"
   ]
  },
  {
   "cell_type": "code",
   "execution_count": 68,
   "metadata": {
    "colab": {
     "base_uri": "https://localhost:8080/"
    },
    "id": "KMlTztjq99L6",
    "outputId": "996046b9-8caa-448f-c892-4356bb59e01c"
   },
   "outputs": [
    {
     "data": {
      "text/plain": [
       "array([0.72762448, 0.42951154, 0.61298526, 0.75615865, 0.72762448,\n",
       "       0.61298526, 0.60199328, 0.71962735, 0.4912491 , 0.73666458,\n",
       "       0.61298526, 0.69089606, 0.74434839, 0.74111165, 0.61843915,\n",
       "       0.72883395, 0.73666458, 0.70771058, 0.6331997 , 0.73666458,\n",
       "       0.7603836 , 0.71839267, 0.7230323 , 0.73216871, 0.74111165,\n",
       "       0.74870997, 0.58531388, 0.55374916, 0.71619696, 0.74870997,\n",
       "       0.76455814, 0.61699603, 0.6595344 , 0.72762448, 0.73547735,\n",
       "       0.73336541, 0.74434839, 0.47668434, 0.72762448, 0.72883395,\n",
       "       0.48819479, 0.61443405, 0.74111165, 0.73666458, 0.61298526,\n",
       "       0.72641163, 0.61298526, 0.62925665, 0.73096862, 0.73666458,\n",
       "       0.61298526, 0.71962735, 0.72762448])"
      ]
     },
     "execution_count": 68,
     "metadata": {},
     "output_type": "execute_result"
    }
   ],
   "source": [
    "lr2.predict_proba(R_train)[:,1]"
   ]
  },
  {
   "cell_type": "code",
   "execution_count": 69,
   "metadata": {
    "colab": {
     "base_uri": "https://localhost:8080/"
    },
    "id": "3lUdLZMvHl6M",
    "outputId": "38118d59-247b-436f-c22f-d8f4b67d0293"
   },
   "outputs": [
    {
     "data": {
      "text/plain": [
       "array([0.74550958, 0.73004005, 0.61298526, 0.74434839, 0.72883395,\n",
       "       0.749858  , 0.60750289, 0.73547735, 0.62782983, 0.74111165,\n",
       "       0.62782983, 0.73666458, 0.62782983, 0.61298526, 0.70291974,\n",
       "       0.73216871, 0.74434839, 0.71023243, 0.72085871, 0.72883395,\n",
       "       0.60426875, 0.72425445, 0.73336541, 0.7230323 ])"
      ]
     },
     "execution_count": 69,
     "metadata": {},
     "output_type": "execute_result"
    }
   ],
   "source": [
    "lr2.predict_proba(R_test)[:,1]"
   ]
  },
  {
   "cell_type": "markdown",
   "metadata": {
    "id": "Y-bBtKAuHuJb"
   },
   "source": [
    "---"
   ]
  },
  {
   "cell_type": "markdown",
   "metadata": {
    "id": "GV5fJ0dxnO7F"
   },
   "source": [
    "---"
   ]
  },
  {
   "cell_type": "markdown",
   "metadata": {
    "id": "y0YosPeUnTy-"
   },
   "source": [
    "#Checking the Relationship Between Drinks/smoking usage and Sleep Duration"
   ]
  },
  {
   "cell_type": "code",
   "execution_count": 70,
   "metadata": {
    "colab": {
     "base_uri": "https://localhost:8080/",
     "height": 423
    },
    "id": "7b7KaA0jn2cU",
    "outputId": "dc78471b-f940-4584-b5b4-7e29a032eea0"
   },
   "outputs": [
    {
     "data": {
      "text/html": [
       "<div>\n",
       "<style scoped>\n",
       "    .dataframe tbody tr th:only-of-type {\n",
       "        vertical-align: middle;\n",
       "    }\n",
       "\n",
       "    .dataframe tbody tr th {\n",
       "        vertical-align: top;\n",
       "    }\n",
       "\n",
       "    .dataframe thead th {\n",
       "        text-align: right;\n",
       "    }\n",
       "</style>\n",
       "<table border=\"1\" class=\"dataframe\">\n",
       "  <thead>\n",
       "    <tr style=\"text-align: right;\">\n",
       "      <th></th>\n",
       "      <th>Age</th>\n",
       "      <th>Gender</th>\n",
       "      <th>smoke/drink</th>\n",
       "    </tr>\n",
       "  </thead>\n",
       "  <tbody>\n",
       "    <tr>\n",
       "      <th>0</th>\n",
       "      <td>20</td>\n",
       "      <td>1</td>\n",
       "      <td>0</td>\n",
       "    </tr>\n",
       "    <tr>\n",
       "      <th>1</th>\n",
       "      <td>21</td>\n",
       "      <td>1</td>\n",
       "      <td>0</td>\n",
       "    </tr>\n",
       "    <tr>\n",
       "      <th>2</th>\n",
       "      <td>20</td>\n",
       "      <td>1</td>\n",
       "      <td>0</td>\n",
       "    </tr>\n",
       "    <tr>\n",
       "      <th>3</th>\n",
       "      <td>19</td>\n",
       "      <td>1</td>\n",
       "      <td>0</td>\n",
       "    </tr>\n",
       "    <tr>\n",
       "      <th>4</th>\n",
       "      <td>45</td>\n",
       "      <td>0</td>\n",
       "      <td>0</td>\n",
       "    </tr>\n",
       "    <tr>\n",
       "      <th>...</th>\n",
       "      <td>...</td>\n",
       "      <td>...</td>\n",
       "      <td>...</td>\n",
       "    </tr>\n",
       "    <tr>\n",
       "      <th>74</th>\n",
       "      <td>22</td>\n",
       "      <td>0</td>\n",
       "      <td>0</td>\n",
       "    </tr>\n",
       "    <tr>\n",
       "      <th>75</th>\n",
       "      <td>22</td>\n",
       "      <td>1</td>\n",
       "      <td>0</td>\n",
       "    </tr>\n",
       "    <tr>\n",
       "      <th>76</th>\n",
       "      <td>21</td>\n",
       "      <td>1</td>\n",
       "      <td>0</td>\n",
       "    </tr>\n",
       "    <tr>\n",
       "      <th>77</th>\n",
       "      <td>24</td>\n",
       "      <td>1</td>\n",
       "      <td>0</td>\n",
       "    </tr>\n",
       "    <tr>\n",
       "      <th>79</th>\n",
       "      <td>23</td>\n",
       "      <td>0</td>\n",
       "      <td>0</td>\n",
       "    </tr>\n",
       "  </tbody>\n",
       "</table>\n",
       "<p>77 rows × 3 columns</p>\n",
       "</div>"
      ],
      "text/plain": [
       "    Age  Gender  smoke/drink\n",
       "0    20       1            0\n",
       "1    21       1            0\n",
       "2    20       1            0\n",
       "3    19       1            0\n",
       "4    45       0            0\n",
       "..  ...     ...          ...\n",
       "74   22       0            0\n",
       "75   22       1            0\n",
       "76   21       1            0\n",
       "77   24       1            0\n",
       "79   23       0            0\n",
       "\n",
       "[77 rows x 3 columns]"
      ]
     },
     "execution_count": 70,
     "metadata": {},
     "output_type": "execute_result"
    }
   ],
   "source": [
    "S= sleep_data.loc[:,['Age','Gender','smoke/drink']]\n",
    "Snew = S.copy()\n",
    "Snew"
   ]
  },
  {
   "cell_type": "code",
   "execution_count": 71,
   "metadata": {
    "colab": {
     "base_uri": "https://localhost:8080/"
    },
    "id": "-IRdvcuOpH0l",
    "outputId": "e9667549-3539-46e6-b8b5-0f4d60c5bc8e"
   },
   "outputs": [
    {
     "data": {
      "text/plain": [
       "array([[0.07142857, 1.        , 0.        ],\n",
       "       [0.0952381 , 1.        , 0.        ],\n",
       "       [0.07142857, 1.        , 0.        ],\n",
       "       [0.04761905, 1.        , 0.        ],\n",
       "       [0.66666667, 0.        , 0.        ],\n",
       "       [0.07142857, 1.        , 0.        ],\n",
       "       [0.        , 1.        , 0.        ],\n",
       "       [0.07142857, 0.        , 0.        ],\n",
       "       [0.07142857, 1.        , 1.        ],\n",
       "       [0.0952381 , 1.        , 0.        ],\n",
       "       [0.07142857, 0.        , 0.        ],\n",
       "       [0.04761905, 1.        , 0.        ],\n",
       "       [0.07142857, 1.        , 1.        ],\n",
       "       [0.0952381 , 1.        , 0.        ],\n",
       "       [0.0952381 , 1.        , 1.        ],\n",
       "       [0.04761905, 1.        , 1.        ],\n",
       "       [0.04761905, 1.        , 0.        ],\n",
       "       [0.21428571, 1.        , 0.        ],\n",
       "       [0.0952381 , 1.        , 0.        ],\n",
       "       [0.71428571, 0.        , 0.        ],\n",
       "       [0.97619048, 0.        , 0.        ],\n",
       "       [0.02380952, 1.        , 0.        ],\n",
       "       [0.07142857, 1.        , 0.        ],\n",
       "       [0.0952381 , 1.        , 0.        ],\n",
       "       [0.        , 0.        , 0.        ],\n",
       "       [0.19047619, 1.        , 0.        ],\n",
       "       [0.30952381, 1.        , 0.        ],\n",
       "       [0.07142857, 1.        , 0.        ],\n",
       "       [0.0952381 , 1.        , 0.        ],\n",
       "       [0.0952381 , 1.        , 0.        ],\n",
       "       [0.26190476, 1.        , 0.        ],\n",
       "       [0.33333333, 1.        , 0.        ],\n",
       "       [0.07142857, 1.        , 0.        ],\n",
       "       [0.07142857, 1.        , 0.        ],\n",
       "       [0.11904762, 0.        , 0.        ],\n",
       "       [0.14285714, 1.        , 0.        ],\n",
       "       [0.14285714, 0.        , 0.        ],\n",
       "       [0.11904762, 1.        , 1.        ],\n",
       "       [0.11904762, 1.        , 0.        ],\n",
       "       [0.11904762, 1.        , 0.        ],\n",
       "       [0.16666667, 0.        , 0.        ],\n",
       "       [0.16666667, 1.        , 0.        ],\n",
       "       [0.14285714, 0.        , 1.        ],\n",
       "       [0.26190476, 0.        , 0.        ],\n",
       "       [1.        , 1.        , 0.        ],\n",
       "       [0.14285714, 0.        , 0.        ],\n",
       "       [0.14285714, 1.        , 0.        ],\n",
       "       [0.14285714, 0.        , 0.        ],\n",
       "       [0.16666667, 1.        , 0.        ],\n",
       "       [0.16666667, 1.        , 0.        ],\n",
       "       [0.14285714, 1.        , 1.        ],\n",
       "       [0.11904762, 1.        , 0.        ],\n",
       "       [0.14285714, 1.        , 0.        ],\n",
       "       [0.52380952, 0.        , 0.        ],\n",
       "       [0.14285714, 0.        , 0.        ],\n",
       "       [0.19047619, 0.        , 0.        ],\n",
       "       [0.14285714, 1.        , 0.        ],\n",
       "       [0.11904762, 1.        , 0.        ],\n",
       "       [0.19047619, 0.        , 0.        ],\n",
       "       [0.78571429, 1.        , 0.        ],\n",
       "       [0.14285714, 0.        , 0.        ],\n",
       "       [0.07142857, 1.        , 0.        ],\n",
       "       [0.14285714, 0.        , 0.        ],\n",
       "       [0.14285714, 0.        , 0.        ],\n",
       "       [0.14285714, 0.        , 0.        ],\n",
       "       [0.11904762, 1.        , 0.        ],\n",
       "       [0.11904762, 1.        , 0.        ],\n",
       "       [0.0952381 , 1.        , 0.        ],\n",
       "       [0.16666667, 1.        , 0.        ],\n",
       "       [0.19047619, 1.        , 0.        ],\n",
       "       [0.11904762, 1.        , 0.        ],\n",
       "       [0.14285714, 0.        , 0.        ],\n",
       "       [0.11904762, 0.        , 0.        ],\n",
       "       [0.11904762, 1.        , 0.        ],\n",
       "       [0.0952381 , 1.        , 0.        ],\n",
       "       [0.16666667, 1.        , 0.        ],\n",
       "       [0.14285714, 0.        , 0.        ]])"
      ]
     },
     "execution_count": 71,
     "metadata": {},
     "output_type": "execute_result"
    }
   ],
   "source": [
    "mnmx=MinMaxScaler()\n",
    "mnmx.fit(Snew)\n",
    "Snew=mnmx.transform(Snew)\n",
    "Snew"
   ]
  },
  {
   "cell_type": "code",
   "execution_count": 72,
   "metadata": {
    "colab": {
     "base_uri": "https://localhost:8080/"
    },
    "id": "fPseW8UVpTnd",
    "outputId": "0877a55e-0480-4bbd-988f-11f1de10fca0"
   },
   "outputs": [
    {
     "name": "stdout",
     "output_type": "stream",
     "text": [
      "(53, 3) (24, 3) (53,) (24,)\n"
     ]
    }
   ],
   "source": [
    "S_train,S_test,Z3_train,Z3_test=train_test_split(Snew,Z,test_size=0.3,stratify=Z,random_state=1)\n",
    "print(S_train.shape,S_test.shape,Z3_train.shape,Z3_test.shape)"
   ]
  },
  {
   "cell_type": "code",
   "execution_count": 73,
   "metadata": {
    "colab": {
     "base_uri": "https://localhost:8080/"
    },
    "id": "GBjQ9WDepmL-",
    "outputId": "e18f9079-8734-4473-826b-ab63cc782ce1"
   },
   "outputs": [
    {
     "data": {
      "text/plain": [
       "LogisticRegression()"
      ]
     },
     "execution_count": 73,
     "metadata": {},
     "output_type": "execute_result"
    }
   ],
   "source": [
    "lr3=LogisticRegression()\n",
    "lr3.fit(S_train,Z3_train)"
   ]
  },
  {
   "cell_type": "code",
   "execution_count": 74,
   "metadata": {
    "colab": {
     "base_uri": "https://localhost:8080/"
    },
    "id": "OUH_o5H6pu8f",
    "outputId": "2f095eac-70dc-4eec-df86-56c55a43c294"
   },
   "outputs": [
    {
     "data": {
      "text/plain": [
       "0.6981132075471698"
      ]
     },
     "execution_count": 74,
     "metadata": {},
     "output_type": "execute_result"
    }
   ],
   "source": [
    "Z3_train_predict = lr3.predict(S_train)\n",
    "accuracy_score(Z3_train_predict, Z3_train)"
   ]
  },
  {
   "cell_type": "code",
   "execution_count": 75,
   "metadata": {
    "colab": {
     "base_uri": "https://localhost:8080/"
    },
    "id": "XNA9kmEPqBej",
    "outputId": "340770a4-5001-453d-bc70-0bb7efd59276"
   },
   "outputs": [
    {
     "data": {
      "text/plain": [
       "0.7083333333333334"
      ]
     },
     "execution_count": 75,
     "metadata": {},
     "output_type": "execute_result"
    }
   ],
   "source": [
    "Z3_test_predict = lr3.predict(S_test)\n",
    "accuracy_score(Z3_test_predict, Z3_test)"
   ]
  },
  {
   "cell_type": "code",
   "execution_count": 76,
   "metadata": {
    "colab": {
     "base_uri": "https://localhost:8080/"
    },
    "id": "9VY1SqLtqKKZ",
    "outputId": "ad0b749c-05e2-4fc2-c26e-da1bd11f7f80"
   },
   "outputs": [
    {
     "data": {
      "text/plain": [
       "array([[-0.95255064,  0.51402404,  0.17106682]])"
      ]
     },
     "execution_count": 76,
     "metadata": {},
     "output_type": "execute_result"
    }
   ],
   "source": [
    "lr3.coef_"
   ]
  },
  {
   "cell_type": "code",
   "execution_count": 77,
   "metadata": {
    "colab": {
     "base_uri": "https://localhost:8080/"
    },
    "id": "o4M9P7N4q8RS",
    "outputId": "6773f16d-b27b-40a7-9b47-b1dda558d4a0"
   },
   "outputs": [
    {
     "data": {
      "text/plain": [
       "array([0.72570825, 0.41705847, 0.61276072, 0.73019961, 0.72570825,\n",
       "       0.61276072, 0.60194411, 0.73019961, 0.52399537, 0.73464431,\n",
       "       0.61276072, 0.70256806, 0.73019961, 0.73904196, 0.61812833,\n",
       "       0.77066358, 0.73464431, 0.6930032 , 0.61812833, 0.73464431,\n",
       "       0.73464431, 0.71658735, 0.72117068, 0.76254843, 0.73904196,\n",
       "       0.73464431, 0.58553389, 0.53904131, 0.73904196, 0.73464431,\n",
       "       0.73904196, 0.60194411, 0.64451393, 0.72570825, 0.72117068,\n",
       "       0.74339219, 0.73019961, 0.47866723, 0.72570825, 0.77066358,\n",
       "       0.48999549, 0.62877638, 0.73904196, 0.76663054, 0.61276072,\n",
       "       0.71195878, 0.61276072, 0.62877638, 0.71658735, 0.73464431,\n",
       "       0.61276072, 0.73019961, 0.75841742])"
      ]
     },
     "execution_count": 77,
     "metadata": {},
     "output_type": "execute_result"
    }
   ],
   "source": [
    "lr3.predict_proba(S_train)[:,1]"
   ]
  },
  {
   "cell_type": "code",
   "execution_count": 78,
   "metadata": {
    "colab": {
     "base_uri": "https://localhost:8080/"
    },
    "id": "EwmZaUQRszzc",
    "outputId": "b4546b3c-8e16-4464-bbe0-209bec93527d"
   },
   "outputs": [
    {
     "data": {
      "text/plain": [
       "array([0.74339219, 0.75194905, 0.65248913, 0.73019961, 0.73904196,\n",
       "       0.74769466, 0.60736558, 0.72117068, 0.61276072, 0.73904196,\n",
       "       0.61276072, 0.73464431, 0.61276072, 0.61276072, 0.68815708,\n",
       "       0.73019961, 0.73019961, 0.72117068, 0.74339219, 0.73904196,\n",
       "       0.5891861 , 0.73464431, 0.7746474 , 0.72117068])"
      ]
     },
     "execution_count": 78,
     "metadata": {},
     "output_type": "execute_result"
    }
   ],
   "source": [
    "lr3.predict_proba(S_test)[:,1]"
   ]
  },
  {
   "cell_type": "markdown",
   "metadata": {
    "id": "hNAiRKgQs74G"
   },
   "source": [
    "---"
   ]
  },
  {
   "cell_type": "markdown",
   "metadata": {
    "id": "lCSRtOVtx2sY"
   },
   "source": [
    "---"
   ]
  },
  {
   "cell_type": "markdown",
   "metadata": {
    "id": "msh9WXLbx34v"
   },
   "source": [
    "#Data Visualisation"
   ]
  },
  {
   "cell_type": "code",
   "execution_count": 79,
   "metadata": {
    "colab": {
     "base_uri": "https://localhost:8080/",
     "height": 606
    },
    "id": "vYBzimvqx8w8",
    "outputId": "91b4ff05-060a-4272-d8b4-aea2b49cadfc"
   },
   "outputs": [
    {
     "data": {
      "image/png": "[encoded data removed]",
      "text/plain": [
       "<Figure size 720x720 with 1 Axes>"
      ]
     },
     "metadata": {
      "needs_background": "light"
     },
     "output_type": "display_data"
    }
   ],
   "source": [
    "plt.figure(figsize=(10,10))\n",
    "plt.scatter(sleep_data['Age'],sleep_data['sleep time'],c=sleep_data['Gender'],cmap='coolwarm',s=70,marker='d')\n",
    "plt.xlabel(\"Age\")\n",
    "plt.ylabel(\"Sleep Time\")\n",
    "plt.show()"
   ]
  },
  {
   "cell_type": "code",
   "execution_count": 80,
   "metadata": {
    "colab": {
     "base_uri": "https://localhost:8080/",
     "height": 606
    },
    "id": "QPYw5jfF41dY",
    "outputId": "39e23995-3aa0-450f-ad49-d6ee8548491e"
   },
   "outputs": [
    {
     "data": {
      "image/png": "[encoded data removed]",
      "text/plain": [
       "<Figure size 720x720 with 1 Axes>"
      ]
     },
     "metadata": {
      "needs_background": "light"
     },
     "output_type": "display_data"
    }
   ],
   "source": [
    "plt.figure(figsize=(10,10))\n",
    "plt.scatter(sleep_data['screen time'],sleep_data['sleep time'],c=sleep_data['bluelight filter'],cmap='coolwarm',s=70,marker='*')\n",
    "plt.xlabel(\"Screen Time\")\n",
    "plt.ylabel(\"Sleep Time\")\n",
    "plt.show()"
   ]
  },
  {
   "cell_type": "code",
   "execution_count": 81,
   "metadata": {
    "colab": {
     "base_uri": "https://localhost:8080/",
     "height": 606
    },
    "id": "GdiOLAsY8A14",
    "outputId": "0e4d805b-fe54-4970-a7b9-bf14827fdec7"
   },
   "outputs": [
    {
     "data": {
      "image/png": "[encoded data removed]",
      "text/plain": [
       "<Figure size 720x720 with 1 Axes>"
      ]
     },
     "metadata": {
      "needs_background": "light"
     },
     "output_type": "display_data"
    }
   ],
   "source": [
    "plt.figure(figsize=(10,10))\n",
    "plt.scatter(sleep_data['Coffee'],sleep_data['sleep time'],c=sleep_data['bluelight filter'],cmap='coolwarm',s=70,marker='*')\n",
    "plt.xlabel(\"coffee\")\n",
    "plt.ylabel(\"Sleep Time\")\n",
    "plt.show()"
   ]
  },
  {
   "cell_type": "code",
   "execution_count": 82,
   "metadata": {
    "colab": {
     "base_uri": "https://localhost:8080/"
    },
    "id": "KeZ6IzDs9Ten",
    "outputId": "6564ffca-47c6-4d8e-d36f-045c6da9aabb"
   },
   "outputs": [
    {
     "name": "stdout",
     "output_type": "stream",
     "text": [
      "<class 'pandas.core.frame.DataFrame'>\n",
      "Int64Index: 77 entries, 0 to 79\n",
      "Data columns (total 16 columns):\n",
      " #   Column            Non-Null Count  Dtype  \n",
      "---  ------            --------------  -----  \n",
      " 0   Age               77 non-null     int64  \n",
      " 1   Gender            77 non-null     int64  \n",
      " 2   meals/day         77 non-null     int64  \n",
      " 3   physical illness  77 non-null     int64  \n",
      " 4   screen time       77 non-null     float64\n",
      " 5   bluelight filter  77 non-null     int64  \n",
      " 6   sleep direction   77 non-null     object \n",
      " 7   exercise          77 non-null     int64  \n",
      " 8   smoke/drink       77 non-null     int64  \n",
      " 9   beverage          77 non-null     object \n",
      " 10  sleep time        77 non-null     float64\n",
      " 11  Tea               77 non-null     int64  \n",
      " 12  Coffee            77 non-null     int64  \n",
      " 13  west              77 non-null     int64  \n",
      " 14  east              77 non-null     int64  \n",
      " 15  south             77 non-null     int64  \n",
      "dtypes: float64(2), int64(12), object(2)\n",
      "memory usage: 10.2+ KB\n"
     ]
    }
   ],
   "source": [
    "sleep_data.info()"
   ]
  },
  {
   "cell_type": "code",
   "execution_count": 89,
   "metadata": {
    "colab": {
     "base_uri": "https://localhost:8080/",
     "height": 661
    },
    "id": "Pn8tWSBQIZ5i",
    "outputId": "1bd56bb4-e348-46b1-bb11-ea0eeb06f362"
   },
   "outputs": [
    {
     "data": {
      "image/png": "[encoded data removed]",
      "text/plain": [
       "<Figure size 720x720 with 2 Axes>"
      ]
     },
     "metadata": {
      "needs_background": "light"
     },
     "output_type": "display_data"
    }
   ],
   "source": [
    "del_columns=['sleep direction','beverage']\n",
    "M=sleep_data.copy()\n",
    "M.drop(columns=del_columns,inplace=True)\n",
    "cormat=M.corr()\n",
    "plt.figure(figsize=(10,10))\n",
    "sns.heatmap(cormat,annot=True)\n",
    "plt.show()"
   ]
  },
  {
   "cell_type": "code",
   "execution_count": 86,
   "metadata": {
    "colab": {
     "base_uri": "https://localhost:8080/"
    },
    "id": "xG6CKV6ZCfVW",
    "outputId": "75b901fd-dd26-4beb-8c73-8fb52413a0b3"
   },
   "outputs": [
    {
     "data": {
      "text/plain": [
       "pandas.core.frame.DataFrame"
      ]
     },
     "execution_count": 86,
     "metadata": {},
     "output_type": "execute_result"
    }
   ],
   "source": [
    "type(cormat)"
   ]
  },
  {
   "cell_type": "code",
   "execution_count": 87,
   "metadata": {
    "colab": {
     "base_uri": "https://localhost:8080/",
     "height": 488
    },
    "id": "xeX2aWRKChri",
    "outputId": "e91b228c-e896-46d7-de1b-6067335fdb82"
   },
   "outputs": [
    {
     "data": {
      "text/html": [
       "<div>\n",
       "<style scoped>\n",
       "    .dataframe tbody tr th:only-of-type {\n",
       "        vertical-align: middle;\n",
       "    }\n",
       "\n",
       "    .dataframe tbody tr th {\n",
       "        vertical-align: top;\n",
       "    }\n",
       "\n",
       "    .dataframe thead th {\n",
       "        text-align: right;\n",
       "    }\n",
       "</style>\n",
       "<table border=\"1\" class=\"dataframe\">\n",
       "  <thead>\n",
       "    <tr style=\"text-align: right;\">\n",
       "      <th></th>\n",
       "      <th>Age</th>\n",
       "      <th>Gender</th>\n",
       "      <th>meals/day</th>\n",
       "      <th>physical illness</th>\n",
       "      <th>screen time</th>\n",
       "      <th>bluelight filter</th>\n",
       "      <th>exercise</th>\n",
       "      <th>smoke/drink</th>\n",
       "      <th>sleep time</th>\n",
       "      <th>Tea</th>\n",
       "      <th>Coffee</th>\n",
       "      <th>west</th>\n",
       "      <th>east</th>\n",
       "      <th>south</th>\n",
       "    </tr>\n",
       "  </thead>\n",
       "  <tbody>\n",
       "    <tr>\n",
       "      <th>Age</th>\n",
       "      <td>1.000000</td>\n",
       "      <td>-0.214156</td>\n",
       "      <td>-0.184366</td>\n",
       "      <td>0.297238</td>\n",
       "      <td>-0.407600</td>\n",
       "      <td>-0.218274</td>\n",
       "      <td>-0.271669</td>\n",
       "      <td>-0.125558</td>\n",
       "      <td>-0.171466</td>\n",
       "      <td>0.141135</td>\n",
       "      <td>-0.111422</td>\n",
       "      <td>0.182667</td>\n",
       "      <td>-0.120091</td>\n",
       "      <td>-0.133578</td>\n",
       "    </tr>\n",
       "    <tr>\n",
       "      <th>Gender</th>\n",
       "      <td>-0.214156</td>\n",
       "      <td>1.000000</td>\n",
       "      <td>0.057577</td>\n",
       "      <td>-0.079799</td>\n",
       "      <td>0.212146</td>\n",
       "      <td>0.159506</td>\n",
       "      <td>0.048995</td>\n",
       "      <td>0.115266</td>\n",
       "      <td>0.053912</td>\n",
       "      <td>-0.163812</td>\n",
       "      <td>0.010343</td>\n",
       "      <td>-0.031447</td>\n",
       "      <td>-0.048995</td>\n",
       "      <td>-0.020079</td>\n",
       "    </tr>\n",
       "    <tr>\n",
       "      <th>meals/day</th>\n",
       "      <td>-0.184366</td>\n",
       "      <td>0.057577</td>\n",
       "      <td>1.000000</td>\n",
       "      <td>-0.120598</td>\n",
       "      <td>0.047356</td>\n",
       "      <td>0.130688</td>\n",
       "      <td>0.139885</td>\n",
       "      <td>0.185535</td>\n",
       "      <td>0.114429</td>\n",
       "      <td>-0.152645</td>\n",
       "      <td>0.067009</td>\n",
       "      <td>0.005758</td>\n",
       "      <td>0.027369</td>\n",
       "      <td>-0.077203</td>\n",
       "    </tr>\n",
       "    <tr>\n",
       "      <th>physical illness</th>\n",
       "      <td>0.297238</td>\n",
       "      <td>-0.079799</td>\n",
       "      <td>-0.120598</td>\n",
       "      <td>1.000000</td>\n",
       "      <td>-0.018521</td>\n",
       "      <td>-0.131430</td>\n",
       "      <td>-0.224781</td>\n",
       "      <td>-0.100000</td>\n",
       "      <td>-0.107954</td>\n",
       "      <td>0.016496</td>\n",
       "      <td>-0.206380</td>\n",
       "      <td>0.079799</td>\n",
       "      <td>-0.084293</td>\n",
       "      <td>-0.011323</td>\n",
       "    </tr>\n",
       "    <tr>\n",
       "      <th>screen time</th>\n",
       "      <td>-0.407600</td>\n",
       "      <td>0.212146</td>\n",
       "      <td>0.047356</td>\n",
       "      <td>-0.018521</td>\n",
       "      <td>1.000000</td>\n",
       "      <td>-0.071409</td>\n",
       "      <td>0.057351</td>\n",
       "      <td>0.019678</td>\n",
       "      <td>0.028078</td>\n",
       "      <td>-0.211185</td>\n",
       "      <td>0.029187</td>\n",
       "      <td>0.064455</td>\n",
       "      <td>0.017780</td>\n",
       "      <td>-0.110227</td>\n",
       "    </tr>\n",
       "    <tr>\n",
       "      <th>bluelight filter</th>\n",
       "      <td>-0.218274</td>\n",
       "      <td>0.159506</td>\n",
       "      <td>0.130688</td>\n",
       "      <td>-0.131430</td>\n",
       "      <td>-0.071409</td>\n",
       "      <td>1.000000</td>\n",
       "      <td>0.110786</td>\n",
       "      <td>0.320362</td>\n",
       "      <td>0.019354</td>\n",
       "      <td>0.066396</td>\n",
       "      <td>0.093609</td>\n",
       "      <td>-0.047342</td>\n",
       "      <td>0.007693</td>\n",
       "      <td>0.077198</td>\n",
       "    </tr>\n",
       "    <tr>\n",
       "      <th>exercise</th>\n",
       "      <td>-0.271669</td>\n",
       "      <td>0.048995</td>\n",
       "      <td>0.139885</td>\n",
       "      <td>-0.224781</td>\n",
       "      <td>0.057351</td>\n",
       "      <td>0.110786</td>\n",
       "      <td>1.000000</td>\n",
       "      <td>0.187317</td>\n",
       "      <td>-0.070253</td>\n",
       "      <td>-0.183851</td>\n",
       "      <td>0.063030</td>\n",
       "      <td>-0.304769</td>\n",
       "      <td>0.215789</td>\n",
       "      <td>-0.153769</td>\n",
       "    </tr>\n",
       "    <tr>\n",
       "      <th>smoke/drink</th>\n",
       "      <td>-0.125558</td>\n",
       "      <td>0.115266</td>\n",
       "      <td>0.185535</td>\n",
       "      <td>-0.100000</td>\n",
       "      <td>0.019678</td>\n",
       "      <td>0.320362</td>\n",
       "      <td>0.187317</td>\n",
       "      <td>1.000000</td>\n",
       "      <td>0.107665</td>\n",
       "      <td>0.107222</td>\n",
       "      <td>0.188434</td>\n",
       "      <td>-0.017733</td>\n",
       "      <td>-0.084293</td>\n",
       "      <td>-0.135873</td>\n",
       "    </tr>\n",
       "    <tr>\n",
       "      <th>sleep time</th>\n",
       "      <td>-0.171466</td>\n",
       "      <td>0.053912</td>\n",
       "      <td>0.114429</td>\n",
       "      <td>-0.107954</td>\n",
       "      <td>0.028078</td>\n",
       "      <td>0.019354</td>\n",
       "      <td>-0.070253</td>\n",
       "      <td>0.107665</td>\n",
       "      <td>1.000000</td>\n",
       "      <td>-0.011300</td>\n",
       "      <td>-0.110465</td>\n",
       "      <td>0.050722</td>\n",
       "      <td>-0.146780</td>\n",
       "      <td>0.158256</td>\n",
       "    </tr>\n",
       "    <tr>\n",
       "      <th>Tea</th>\n",
       "      <td>0.141135</td>\n",
       "      <td>-0.163812</td>\n",
       "      <td>-0.152645</td>\n",
       "      <td>0.016496</td>\n",
       "      <td>-0.211185</td>\n",
       "      <td>0.066396</td>\n",
       "      <td>-0.183851</td>\n",
       "      <td>0.107222</td>\n",
       "      <td>-0.011300</td>\n",
       "      <td>1.000000</td>\n",
       "      <td>-0.031083</td>\n",
       "      <td>-0.005119</td>\n",
       "      <td>0.064889</td>\n",
       "      <td>-0.039223</td>\n",
       "    </tr>\n",
       "    <tr>\n",
       "      <th>Coffee</th>\n",
       "      <td>-0.111422</td>\n",
       "      <td>0.010343</td>\n",
       "      <td>0.067009</td>\n",
       "      <td>-0.206380</td>\n",
       "      <td>0.029187</td>\n",
       "      <td>0.093609</td>\n",
       "      <td>0.063030</td>\n",
       "      <td>0.188434</td>\n",
       "      <td>-0.110465</td>\n",
       "      <td>-0.031083</td>\n",
       "      <td>1.000000</td>\n",
       "      <td>-0.255388</td>\n",
       "      <td>-0.063030</td>\n",
       "      <td>0.188975</td>\n",
       "    </tr>\n",
       "    <tr>\n",
       "      <th>west</th>\n",
       "      <td>0.182667</td>\n",
       "      <td>-0.031447</td>\n",
       "      <td>0.005758</td>\n",
       "      <td>0.079799</td>\n",
       "      <td>0.064455</td>\n",
       "      <td>-0.047342</td>\n",
       "      <td>-0.304769</td>\n",
       "      <td>-0.017733</td>\n",
       "      <td>0.050722</td>\n",
       "      <td>-0.005119</td>\n",
       "      <td>-0.255388</td>\n",
       "      <td>1.000000</td>\n",
       "      <td>-0.398607</td>\n",
       "      <td>-0.289136</td>\n",
       "    </tr>\n",
       "    <tr>\n",
       "      <th>east</th>\n",
       "      <td>-0.120091</td>\n",
       "      <td>-0.048995</td>\n",
       "      <td>0.027369</td>\n",
       "      <td>-0.084293</td>\n",
       "      <td>0.017780</td>\n",
       "      <td>0.007693</td>\n",
       "      <td>0.215789</td>\n",
       "      <td>-0.084293</td>\n",
       "      <td>-0.146780</td>\n",
       "      <td>0.064889</td>\n",
       "      <td>-0.063030</td>\n",
       "      <td>-0.398607</td>\n",
       "      <td>1.000000</td>\n",
       "      <td>-0.254514</td>\n",
       "    </tr>\n",
       "    <tr>\n",
       "      <th>south</th>\n",
       "      <td>-0.133578</td>\n",
       "      <td>-0.020079</td>\n",
       "      <td>-0.077203</td>\n",
       "      <td>-0.011323</td>\n",
       "      <td>-0.110227</td>\n",
       "      <td>0.077198</td>\n",
       "      <td>-0.153769</td>\n",
       "      <td>-0.135873</td>\n",
       "      <td>0.158256</td>\n",
       "      <td>-0.039223</td>\n",
       "      <td>0.188975</td>\n",
       "      <td>-0.289136</td>\n",
       "      <td>-0.254514</td>\n",
       "      <td>1.000000</td>\n",
       "    </tr>\n",
       "  </tbody>\n",
       "</table>\n",
       "</div>"
      ],
      "text/plain": [
       "                       Age    Gender  meals/day  ...      west      east     south\n",
       "Age               1.000000 -0.214156  -0.184366  ...  0.182667 -0.120091 -0.133578\n",
       "Gender           -0.214156  1.000000   0.057577  ... -0.031447 -0.048995 -0.020079\n",
       "meals/day        -0.184366  0.057577   1.000000  ...  0.005758  0.027369 -0.077203\n",
       "physical illness  0.297238 -0.079799  -0.120598  ...  0.079799 -0.084293 -0.011323\n",
       "screen time      -0.407600  0.212146   0.047356  ...  0.064455  0.017780 -0.110227\n",
       "bluelight filter -0.218274  0.159506   0.130688  ... -0.047342  0.007693  0.077198\n",
       "exercise         -0.271669  0.048995   0.139885  ... -0.304769  0.215789 -0.153769\n",
       "smoke/drink      -0.125558  0.115266   0.185535  ... -0.017733 -0.084293 -0.135873\n",
       "sleep time       -0.171466  0.053912   0.114429  ...  0.050722 -0.146780  0.158256\n",
       "Tea               0.141135 -0.163812  -0.152645  ... -0.005119  0.064889 -0.039223\n",
       "Coffee           -0.111422  0.010343   0.067009  ... -0.255388 -0.063030  0.188975\n",
       "west              0.182667 -0.031447   0.005758  ...  1.000000 -0.398607 -0.289136\n",
       "east             -0.120091 -0.048995   0.027369  ... -0.398607  1.000000 -0.254514\n",
       "south            -0.133578 -0.020079  -0.077203  ... -0.289136 -0.254514  1.000000\n",
       "\n",
       "[14 rows x 14 columns]"
      ]
     },
     "execution_count": 87,
     "metadata": {},
     "output_type": "execute_result"
    }
   ],
   "source": [
    "cormat"
   ]
  },
  {
   "cell_type": "code",
   "execution_count": 87,
   "metadata": {
    "id": "mT_AhajJClEG"
   },
   "outputs": [],
   "source": []
  }
 ],
 "metadata": {
  "colab": {
   "name": "G21_Logistic_Regression.ipynb",
   "provenance": []
  },
  "kernelspec": {
   "display_name": "Python 3 (ipykernel)",
   "language": "python",
   "name": "python3"
  },
  "language_info": {
   "codemirror_mode": {
    "name": "ipython",
    "version": 3
   },
   "file_extension": ".py",
   "mimetype": "text/x-python",
   "name": "python",
   "nbconvert_exporter": "python",
   "pygments_lexer": "ipython3",
   "version": "3.11.5"
  }
 },
 "nbformat": 4,
 "nbformat_minor": 1
}
